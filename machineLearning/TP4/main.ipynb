{
 "cells": [
  {
   "cell_type": "markdown",
   "metadata": {},
   "source": [
    "# Analyse machine learning de fakes news"
   ]
  },
  {
   "cell_type": "code",
   "execution_count": 152,
   "metadata": {},
   "outputs": [],
   "source": [
    "import re\n",
    "import pandas as pd\n",
    "import tensorflow as tf\n",
    "import matplotlib.pyplot as plt\n",
    "import numpy as np"
   ]
  },
  {
   "cell_type": "markdown",
   "metadata": {},
   "source": [
    "## Import des données"
   ]
  },
  {
   "cell_type": "code",
   "execution_count": 153,
   "metadata": {},
   "outputs": [],
   "source": [
    "# Chargement du fichier CSV de test et nettoyage sommaire\n",
    "df_test = pd.read_csv(\"test.csv\")"
   ]
  },
  {
   "cell_type": "code",
   "execution_count": 154,
   "metadata": {},
   "outputs": [],
   "source": [
    "# Chargement du fichier CSV de train et nettoyage sommaire\n",
    "df_train = pd.read_csv(\"train.csv\")"
   ]
  },
  {
   "cell_type": "markdown",
   "metadata": {},
   "source": [
    "## Nettoyage des données\n",
    "- suppression des données vide"
   ]
  },
  {
   "cell_type": "code",
   "execution_count": 155,
   "metadata": {},
   "outputs": [],
   "source": [
    "df_test['Text'] = df_test['Text'].apply(lambda x : str(x).strip())\n",
    "df_test = df_test.dropna()\n",
    "\n",
    "df_train['Text'] = df_train['Text'].apply(lambda x : str(x).strip())\n",
    "df_train = df_train.dropna()"
   ]
  },
  {
   "cell_type": "markdown",
   "metadata": {},
   "source": [
    "- suppression des entrées non anglaise"
   ]
  },
  {
   "cell_type": "code",
   "execution_count": 156,
   "metadata": {},
   "outputs": [],
   "source": [
    "from langdetect import detect\n",
    "\n",
    "def detect_lang(text):\n",
    "    try:\n",
    "        return detect(text)\n",
    "    except:\n",
    "        return 'unknown'"
   ]
  },
  {
   "cell_type": "code",
   "execution_count": 157,
   "metadata": {},
   "outputs": [],
   "source": [
    "df_test['lang'] = df_test['Text'].apply(detect_lang)\n",
    "df_test['lang'].unique()\n",
    "\n",
    "df_train['lang'] = df_test['Text'].apply(detect_lang)\n",
    "df_train['lang'].unique()\n",
    "\n",
    "df_train = df_train[df_train['lang'] == 'en'] # Keep only english reviews\n",
    "df_test = df_test[df_test['lang'] == 'en'] # Keep only english reviews"
   ]
  },
  {
   "cell_type": "markdown",
   "metadata": {},
   "source": [
    "- nettoyage de la colonne de texte avec passage de tout le texte en lowercase"
   ]
  },
  {
   "cell_type": "code",
   "execution_count": 158,
   "metadata": {},
   "outputs": [],
   "source": [
    "def clean_data(text):\n",
    "    # Remove all the special characters\n",
    "    processed_text = re.sub(r'\\W', ' ', text)\n",
    "    # remove all single characters\n",
    "    processed_text= re.sub(r'\\s+[a-zA-Z]\\s+', ' ', processed_text)\n",
    "    # Remove single characters from the start\n",
    "    processed_text = re.sub(r'\\^[a-zA-Z]\\s+', ' ', processed_text)\n",
    "    # Substituting multiple spaces with single space\n",
    "    processed_text = re.sub(r'\\s+', ' ', processed_text, flags=re.I)\n",
    "    # Removing prefixed 'b'\n",
    "    processed_text = re.sub(r'^b\\s+', '', processed_text)\n",
    "    # Converting to Lowercase\n",
    "    processed_text = processed_text.lower()\n",
    "\n",
    "    return processed_text"
   ]
  },
  {
   "cell_type": "code",
   "execution_count": 159,
   "metadata": {},
   "outputs": [],
   "source": [
    "df_train = df_train.drop(columns={'lang'})\n",
    "df_test = df_test.drop(columns={'lang'})\n",
    "\n",
    "df_train = df_train.drop_duplicates(subset=\"Text\")\n",
    "df_test = df_test.drop_duplicates(subset=\"Text\")\n",
    "\n",
    "df_train['Text'] = df_train['Text'].apply(clean_data)\n",
    "df_test['Text'] = df_test['Text'].apply(clean_data)\n"
   ]
  },
  {
   "cell_type": "markdown",
   "metadata": {},
   "source": [
    "## Affichage des données nettoyées\n",
    "- données d'entraînements"
   ]
  },
  {
   "cell_type": "code",
   "execution_count": 160,
   "metadata": {},
   "outputs": [
    {
     "data": {
      "text/html": [
       "<div>\n",
       "<style scoped>\n",
       "    .dataframe tbody tr th:only-of-type {\n",
       "        vertical-align: middle;\n",
       "    }\n",
       "\n",
       "    .dataframe tbody tr th {\n",
       "        vertical-align: top;\n",
       "    }\n",
       "\n",
       "    .dataframe thead th {\n",
       "        text-align: right;\n",
       "    }\n",
       "</style>\n",
       "<table border=\"1\" class=\"dataframe\">\n",
       "  <thead>\n",
       "    <tr style=\"text-align: right;\">\n",
       "      <th></th>\n",
       "      <th>Labels</th>\n",
       "      <th>Text</th>\n",
       "      <th>Text_Tag</th>\n",
       "    </tr>\n",
       "  </thead>\n",
       "  <tbody>\n",
       "    <tr>\n",
       "      <th>0</th>\n",
       "      <td>1</td>\n",
       "      <td>says the annies list political group supports ...</td>\n",
       "      <td>abortion</td>\n",
       "    </tr>\n",
       "    <tr>\n",
       "      <th>1</th>\n",
       "      <td>2</td>\n",
       "      <td>when did the decline of coal start it started ...</td>\n",
       "      <td>energy,history,job-accomplishments</td>\n",
       "    </tr>\n",
       "    <tr>\n",
       "      <th>2</th>\n",
       "      <td>3</td>\n",
       "      <td>hillary clinton agrees with john mccain by vot...</td>\n",
       "      <td>foreign-policy</td>\n",
       "    </tr>\n",
       "    <tr>\n",
       "      <th>3</th>\n",
       "      <td>1</td>\n",
       "      <td>health care reform legislation is likely to ma...</td>\n",
       "      <td>health-care</td>\n",
       "    </tr>\n",
       "    <tr>\n",
       "      <th>4</th>\n",
       "      <td>2</td>\n",
       "      <td>the economic turnaround started at the end of ...</td>\n",
       "      <td>economy,jobs</td>\n",
       "    </tr>\n",
       "    <tr>\n",
       "      <th>...</th>\n",
       "      <td>...</td>\n",
       "      <td>...</td>\n",
       "      <td>...</td>\n",
       "    </tr>\n",
       "    <tr>\n",
       "      <th>1262</th>\n",
       "      <td>1</td>\n",
       "      <td>says new report proves the stimulus supported ...</td>\n",
       "      <td>stimulus</td>\n",
       "    </tr>\n",
       "    <tr>\n",
       "      <th>1263</th>\n",
       "      <td>4</td>\n",
       "      <td>says its absurd to say theres enough data to e...</td>\n",
       "      <td>health-care,science,sports</td>\n",
       "    </tr>\n",
       "    <tr>\n",
       "      <th>1264</th>\n",
       "      <td>1</td>\n",
       "      <td>the wives of the 9 11 hijackers knew exactly w...</td>\n",
       "      <td>history,terrorism</td>\n",
       "    </tr>\n",
       "    <tr>\n",
       "      <th>1265</th>\n",
       "      <td>4</td>\n",
       "      <td>says jill mccabe supports late term abortions ...</td>\n",
       "      <td>abortion</td>\n",
       "    </tr>\n",
       "    <tr>\n",
       "      <th>1266</th>\n",
       "      <td>1</td>\n",
       "      <td>says s rep nancy pelosi said employers cutting...</td>\n",
       "      <td>fake-news</td>\n",
       "    </tr>\n",
       "  </tbody>\n",
       "</table>\n",
       "<p>1262 rows × 3 columns</p>\n",
       "</div>"
      ],
      "text/plain": [
       "      Labels                                               Text  \\\n",
       "0          1  says the annies list political group supports ...   \n",
       "1          2  when did the decline of coal start it started ...   \n",
       "2          3  hillary clinton agrees with john mccain by vot...   \n",
       "3          1  health care reform legislation is likely to ma...   \n",
       "4          2  the economic turnaround started at the end of ...   \n",
       "...      ...                                                ...   \n",
       "1262       1  says new report proves the stimulus supported ...   \n",
       "1263       4  says its absurd to say theres enough data to e...   \n",
       "1264       1  the wives of the 9 11 hijackers knew exactly w...   \n",
       "1265       4  says jill mccabe supports late term abortions ...   \n",
       "1266       1  says s rep nancy pelosi said employers cutting...   \n",
       "\n",
       "                                Text_Tag  \n",
       "0                               abortion  \n",
       "1     energy,history,job-accomplishments  \n",
       "2                         foreign-policy  \n",
       "3                            health-care  \n",
       "4                           economy,jobs  \n",
       "...                                  ...  \n",
       "1262                            stimulus  \n",
       "1263          health-care,science,sports  \n",
       "1264                   history,terrorism  \n",
       "1265                            abortion  \n",
       "1266                           fake-news  \n",
       "\n",
       "[1262 rows x 3 columns]"
      ]
     },
     "execution_count": 160,
     "metadata": {},
     "output_type": "execute_result"
    }
   ],
   "source": [
    "df_train"
   ]
  },
  {
   "cell_type": "markdown",
   "metadata": {},
   "source": [
    "- données de tests"
   ]
  },
  {
   "cell_type": "code",
   "execution_count": 161,
   "metadata": {},
   "outputs": [
    {
     "data": {
      "text/html": [
       "<div>\n",
       "<style scoped>\n",
       "    .dataframe tbody tr th:only-of-type {\n",
       "        vertical-align: middle;\n",
       "    }\n",
       "\n",
       "    .dataframe tbody tr th {\n",
       "        vertical-align: top;\n",
       "    }\n",
       "\n",
       "    .dataframe thead th {\n",
       "        text-align: right;\n",
       "    }\n",
       "</style>\n",
       "<table border=\"1\" class=\"dataframe\">\n",
       "  <thead>\n",
       "    <tr style=\"text-align: right;\">\n",
       "      <th></th>\n",
       "      <th>Text</th>\n",
       "      <th>Text_Tag</th>\n",
       "    </tr>\n",
       "  </thead>\n",
       "  <tbody>\n",
       "    <tr>\n",
       "      <th>0</th>\n",
       "      <td>building wall on the s mexico border will take...</td>\n",
       "      <td>immigration</td>\n",
       "    </tr>\n",
       "    <tr>\n",
       "      <th>1</th>\n",
       "      <td>wisconsin is on pace to double the number of l...</td>\n",
       "      <td>jobs</td>\n",
       "    </tr>\n",
       "    <tr>\n",
       "      <th>2</th>\n",
       "      <td>says john mccain has done nothing to help the ...</td>\n",
       "      <td>military,veterans,voting-record</td>\n",
       "    </tr>\n",
       "    <tr>\n",
       "      <th>3</th>\n",
       "      <td>suzanne bonamici supports plan that will cut c...</td>\n",
       "      <td>medicare,message-machine-2012,campaign-adverti...</td>\n",
       "    </tr>\n",
       "    <tr>\n",
       "      <th>4</th>\n",
       "      <td>when asked by reporter whether hes at the cent...</td>\n",
       "      <td>campaign-finance,legal-issues,campaign-adverti...</td>\n",
       "    </tr>\n",
       "    <tr>\n",
       "      <th>...</th>\n",
       "      <td>...</td>\n",
       "      <td>...</td>\n",
       "    </tr>\n",
       "    <tr>\n",
       "      <th>1262</th>\n",
       "      <td>says his budget provides the highest state fun...</td>\n",
       "      <td>education</td>\n",
       "    </tr>\n",
       "    <tr>\n",
       "      <th>1263</th>\n",
       "      <td>ive been here almost every day</td>\n",
       "      <td>civil-rights,crime,criminal-justice</td>\n",
       "    </tr>\n",
       "    <tr>\n",
       "      <th>1264</th>\n",
       "      <td>in the early 1980s sen edward kennedy secretly...</td>\n",
       "      <td>bipartisanship,congress,foreign-policy,history</td>\n",
       "    </tr>\n",
       "    <tr>\n",
       "      <th>1265</th>\n",
       "      <td>says an epa permit languished under strickland...</td>\n",
       "      <td>environment,government-efficiency</td>\n",
       "    </tr>\n",
       "    <tr>\n",
       "      <th>1266</th>\n",
       "      <td>says the governor is going around the state ta...</td>\n",
       "      <td>state-budget,state-finances,taxes</td>\n",
       "    </tr>\n",
       "  </tbody>\n",
       "</table>\n",
       "<p>1260 rows × 2 columns</p>\n",
       "</div>"
      ],
      "text/plain": [
       "                                                   Text  \\\n",
       "0     building wall on the s mexico border will take...   \n",
       "1     wisconsin is on pace to double the number of l...   \n",
       "2     says john mccain has done nothing to help the ...   \n",
       "3     suzanne bonamici supports plan that will cut c...   \n",
       "4     when asked by reporter whether hes at the cent...   \n",
       "...                                                 ...   \n",
       "1262  says his budget provides the highest state fun...   \n",
       "1263                    ive been here almost every day    \n",
       "1264  in the early 1980s sen edward kennedy secretly...   \n",
       "1265  says an epa permit languished under strickland...   \n",
       "1266  says the governor is going around the state ta...   \n",
       "\n",
       "                                               Text_Tag  \n",
       "0                                           immigration  \n",
       "1                                                  jobs  \n",
       "2                       military,veterans,voting-record  \n",
       "3     medicare,message-machine-2012,campaign-adverti...  \n",
       "4     campaign-finance,legal-issues,campaign-adverti...  \n",
       "...                                                 ...  \n",
       "1262                                          education  \n",
       "1263                civil-rights,crime,criminal-justice  \n",
       "1264     bipartisanship,congress,foreign-policy,history  \n",
       "1265                  environment,government-efficiency  \n",
       "1266                  state-budget,state-finances,taxes  \n",
       "\n",
       "[1260 rows x 2 columns]"
      ]
     },
     "execution_count": 161,
     "metadata": {},
     "output_type": "execute_result"
    }
   ],
   "source": [
    "df_test"
   ]
  },
  {
   "cell_type": "markdown",
   "metadata": {},
   "source": [
    "## Analyse des données nettoyées "
   ]
  },
  {
   "cell_type": "code",
   "execution_count": 162,
   "metadata": {},
   "outputs": [
    {
     "name": "stdout",
     "output_type": "stream",
     "text": [
      "Nombre de mots uniques dans les données de test : 4362\n",
      "Nombre de mots uniques dans les données de train : 4304\n"
     ]
    }
   ],
   "source": [
    "# Nombre de mots uniques\n",
    "\n",
    "def findWordsCount(column):\n",
    "    # Créer un ensemble pour stocker les mots\n",
    "    mots = set()\n",
    "\n",
    "    # Parcourir les reviews et ajouter chaque mot à l'ensemble\n",
    "    for review in column:\n",
    "        for word in review.split():\n",
    "            mots.add(word)\n",
    "    return len(mots)\n",
    "\n",
    "df_test_unique_words_count = findWordsCount(df_test['Text'])\n",
    "df_train_unique_words_count = findWordsCount(df_train['Text'])\n",
    "print(f\"Nombre de mots uniques dans les données de test : {df_test_unique_words_count}\")\n",
    "print(f\"Nombre de mots uniques dans les données de train : {df_train_unique_words_count}\")"
   ]
  },
  {
   "cell_type": "markdown",
   "metadata": {},
   "source": [
    "### Répartition des labels\n",
    "On observe que sur les données de test, les données des labels sont globalement équilibréés. Seule la catégorie 4 est sous-représentée."
   ]
  },
  {
   "cell_type": "code",
   "execution_count": 163,
   "metadata": {},
   "outputs": [
    {
     "data": {
      "text/plain": [
       "Labels\n",
       "1    261\n",
       "2    258\n",
       "3    251\n",
       "5    202\n",
       "0    187\n",
       "4    103\n",
       "Name: count, dtype: int64"
      ]
     },
     "execution_count": 163,
     "metadata": {},
     "output_type": "execute_result"
    }
   ],
   "source": [
    "counts_labels = df_train['Labels'].value_counts()\n",
    "counts_labels"
   ]
  },
  {
   "cell_type": "code",
   "execution_count": 164,
   "metadata": {},
   "outputs": [
    {
     "data": {
      "image/png": "[encoded data removed]",
      "text/plain": [
       "<Figure size 640x480 with 1 Axes>"
      ]
     },
     "metadata": {},
     "output_type": "display_data"
    }
   ],
   "source": [
    "plt.bar(counts_labels.index, counts_labels.values)\n",
    "plt.xlabel('Labels')\n",
    "plt.ylabel('Nombre de données')\n",
    "plt.title('Répartition des labels')\n",
    "plt.show()"
   ]
  },
  {
   "cell_type": "code",
   "execution_count": 165,
   "metadata": {},
   "outputs": [
    {
     "data": {
      "text/plain": [
       "Text_Tag\n",
       "taxes                                                                       41\n",
       "immigration                                                                 38\n",
       "health-care                                                                 36\n",
       "education                                                                   36\n",
       "elections                                                                   32\n",
       "                                                                            ..\n",
       "health-care,new-hampshire-2012,abc-news-week                                 1\n",
       "immigration,military,terrorism                                               1\n",
       "children,education,federal-budget,government-regulation                      1\n",
       "city-government,civil-rights,criminal-justice,public-safety,state-budget     1\n",
       "fake-news                                                                    1\n",
       "Name: count, Length: 718, dtype: int64"
      ]
     },
     "execution_count": 165,
     "metadata": {},
     "output_type": "execute_result"
    }
   ],
   "source": [
    "counts_tags = df_train['Text_Tag'].value_counts()\n",
    "counts_tags"
   ]
  },
  {
   "cell_type": "code",
   "execution_count": 166,
   "metadata": {},
   "outputs": [
    {
     "data": {
      "image/png": "[encoded data removed]",
      "text/plain": [
       "<Figure size 640x480 with 1 Axes>"
      ]
     },
     "metadata": {},
     "output_type": "display_data"
    }
   ],
   "source": [
    "plt.bar(counts_tags.index, counts_tags.values)\n",
    "plt.xlabel('Tags')\n",
    "plt.ylabel('Nombre de données')\n",
    "plt.title('Répartition des tags')\n",
    "plt.xticks([])\n",
    "plt.show()"
   ]
  },
  {
   "cell_type": "markdown",
   "metadata": {},
   "source": [
    "On observe que certains tags sont beaucoup plus présents que d'autres mais nous pouvons également remarquer que certains tags sont composés. Il est donc difficile de tirer des informations pertinentes de ces données."
   ]
  },
  {
   "cell_type": "markdown",
   "metadata": {},
   "source": [
    "### Etape de tokenisation"
   ]
  },
  {
   "cell_type": "code",
   "execution_count": 167,
   "metadata": {},
   "outputs": [
    {
     "name": "stderr",
     "output_type": "stream",
     "text": [
      "[nltk_data] Error loading punkt: <urlopen error [Errno 11001]\n",
      "[nltk_data]     getaddrinfo failed>\n"
     ]
    },
    {
     "data": {
      "text/html": [
       "<div>\n",
       "<style scoped>\n",
       "    .dataframe tbody tr th:only-of-type {\n",
       "        vertical-align: middle;\n",
       "    }\n",
       "\n",
       "    .dataframe tbody tr th {\n",
       "        vertical-align: top;\n",
       "    }\n",
       "\n",
       "    .dataframe thead th {\n",
       "        text-align: right;\n",
       "    }\n",
       "</style>\n",
       "<table border=\"1\" class=\"dataframe\">\n",
       "  <thead>\n",
       "    <tr style=\"text-align: right;\">\n",
       "      <th></th>\n",
       "      <th>Labels</th>\n",
       "      <th>Text</th>\n",
       "      <th>Text_Tag</th>\n",
       "      <th>Tokens</th>\n",
       "    </tr>\n",
       "  </thead>\n",
       "  <tbody>\n",
       "    <tr>\n",
       "      <th>0</th>\n",
       "      <td>1</td>\n",
       "      <td>says the annies list political group supports ...</td>\n",
       "      <td>abortion</td>\n",
       "      <td>[says, the, annies, list, political, group, su...</td>\n",
       "    </tr>\n",
       "    <tr>\n",
       "      <th>1</th>\n",
       "      <td>2</td>\n",
       "      <td>when did the decline of coal start it started ...</td>\n",
       "      <td>energy,history,job-accomplishments</td>\n",
       "      <td>[when, did, the, decline, of, coal, start, it,...</td>\n",
       "    </tr>\n",
       "    <tr>\n",
       "      <th>2</th>\n",
       "      <td>3</td>\n",
       "      <td>hillary clinton agrees with john mccain by vot...</td>\n",
       "      <td>foreign-policy</td>\n",
       "      <td>[hillary, clinton, agrees, with, john, mccain,...</td>\n",
       "    </tr>\n",
       "    <tr>\n",
       "      <th>3</th>\n",
       "      <td>1</td>\n",
       "      <td>health care reform legislation is likely to ma...</td>\n",
       "      <td>health-care</td>\n",
       "      <td>[health, care, reform, legislation, is, likely...</td>\n",
       "    </tr>\n",
       "    <tr>\n",
       "      <th>4</th>\n",
       "      <td>2</td>\n",
       "      <td>the economic turnaround started at the end of ...</td>\n",
       "      <td>economy,jobs</td>\n",
       "      <td>[the, economic, turnaround, started, at, the, ...</td>\n",
       "    </tr>\n",
       "    <tr>\n",
       "      <th>...</th>\n",
       "      <td>...</td>\n",
       "      <td>...</td>\n",
       "      <td>...</td>\n",
       "      <td>...</td>\n",
       "    </tr>\n",
       "    <tr>\n",
       "      <th>1262</th>\n",
       "      <td>1</td>\n",
       "      <td>says new report proves the stimulus supported ...</td>\n",
       "      <td>stimulus</td>\n",
       "      <td>[says, new, report, proves, the, stimulus, sup...</td>\n",
       "    </tr>\n",
       "    <tr>\n",
       "      <th>1263</th>\n",
       "      <td>4</td>\n",
       "      <td>says its absurd to say theres enough data to e...</td>\n",
       "      <td>health-care,science,sports</td>\n",
       "      <td>[says, its, absurd, to, say, theres, enough, d...</td>\n",
       "    </tr>\n",
       "    <tr>\n",
       "      <th>1264</th>\n",
       "      <td>1</td>\n",
       "      <td>the wives of the 9 11 hijackers knew exactly w...</td>\n",
       "      <td>history,terrorism</td>\n",
       "      <td>[the, wives, of, the, 9, 11, hijackers, knew, ...</td>\n",
       "    </tr>\n",
       "    <tr>\n",
       "      <th>1265</th>\n",
       "      <td>4</td>\n",
       "      <td>says jill mccabe supports late term abortions ...</td>\n",
       "      <td>abortion</td>\n",
       "      <td>[says, jill, mccabe, supports, late, term, abo...</td>\n",
       "    </tr>\n",
       "    <tr>\n",
       "      <th>1266</th>\n",
       "      <td>1</td>\n",
       "      <td>says s rep nancy pelosi said employers cutting...</td>\n",
       "      <td>fake-news</td>\n",
       "      <td>[says, s, rep, nancy, pelosi, said, employers,...</td>\n",
       "    </tr>\n",
       "  </tbody>\n",
       "</table>\n",
       "<p>1262 rows × 4 columns</p>\n",
       "</div>"
      ],
      "text/plain": [
       "      Labels                                               Text  \\\n",
       "0          1  says the annies list political group supports ...   \n",
       "1          2  when did the decline of coal start it started ...   \n",
       "2          3  hillary clinton agrees with john mccain by vot...   \n",
       "3          1  health care reform legislation is likely to ma...   \n",
       "4          2  the economic turnaround started at the end of ...   \n",
       "...      ...                                                ...   \n",
       "1262       1  says new report proves the stimulus supported ...   \n",
       "1263       4  says its absurd to say theres enough data to e...   \n",
       "1264       1  the wives of the 9 11 hijackers knew exactly w...   \n",
       "1265       4  says jill mccabe supports late term abortions ...   \n",
       "1266       1  says s rep nancy pelosi said employers cutting...   \n",
       "\n",
       "                                Text_Tag  \\\n",
       "0                               abortion   \n",
       "1     energy,history,job-accomplishments   \n",
       "2                         foreign-policy   \n",
       "3                            health-care   \n",
       "4                           economy,jobs   \n",
       "...                                  ...   \n",
       "1262                            stimulus   \n",
       "1263          health-care,science,sports   \n",
       "1264                   history,terrorism   \n",
       "1265                            abortion   \n",
       "1266                           fake-news   \n",
       "\n",
       "                                                 Tokens  \n",
       "0     [says, the, annies, list, political, group, su...  \n",
       "1     [when, did, the, decline, of, coal, start, it,...  \n",
       "2     [hillary, clinton, agrees, with, john, mccain,...  \n",
       "3     [health, care, reform, legislation, is, likely...  \n",
       "4     [the, economic, turnaround, started, at, the, ...  \n",
       "...                                                 ...  \n",
       "1262  [says, new, report, proves, the, stimulus, sup...  \n",
       "1263  [says, its, absurd, to, say, theres, enough, d...  \n",
       "1264  [the, wives, of, the, 9, 11, hijackers, knew, ...  \n",
       "1265  [says, jill, mccabe, supports, late, term, abo...  \n",
       "1266  [says, s, rep, nancy, pelosi, said, employers,...  \n",
       "\n",
       "[1262 rows x 4 columns]"
      ]
     },
     "execution_count": 167,
     "metadata": {},
     "output_type": "execute_result"
    }
   ],
   "source": [
    "import nltk\n",
    "from nltk.tokenize import word_tokenize\n",
    "nltk.download('punkt')\n",
    "\n",
    "def tokenize_text(text):\n",
    "    tokens = word_tokenize(text)\n",
    "    return tokens\n",
    "\n",
    "df_train['Tokens'] = df_train['Text'].apply(tokenize_text)\n",
    "df_train"
   ]
  },
  {
   "cell_type": "markdown",
   "metadata": {},
   "source": [
    "### Etape de vectorisation"
   ]
  },
  {
   "cell_type": "code",
   "execution_count": 168,
   "metadata": {},
   "outputs": [],
   "source": [
    "from tensorflow.keras.layers import TextVectorization\n",
    "\n",
    "max_length = 100\n",
    "vocabs = 1000"
   ]
  },
  {
   "cell_type": "code",
   "execution_count": 169,
   "metadata": {},
   "outputs": [],
   "source": [
    "vectorize_layer = TextVectorization(\n",
    "    # standardize=custom_standardization, # To be used instead of pre processing the text before\n",
    "    max_tokens=vocabs,\n",
    "    output_mode='int',\n",
    "    output_sequence_length=max_length)"
   ]
  },
  {
   "cell_type": "code",
   "execution_count": 170,
   "metadata": {},
   "outputs": [],
   "source": [
    "from sklearn.model_selection import train_test_split\n",
    "y = df_train[\"Labels\"]\n",
    "x = df_train['Text']\n",
    "x_train, x_test, y_train, y_test = train_test_split(x, y, test_size=0.2, random_state=32)"
   ]
  },
  {
   "cell_type": "code",
   "execution_count": 171,
   "metadata": {},
   "outputs": [
    {
     "data": {
      "text/plain": [
       "607     0\n",
       "753     5\n",
       "866     0\n",
       "1181    5\n",
       "255     2\n",
       "       ..\n",
       "1180    1\n",
       "291     5\n",
       "301     3\n",
       "1110    2\n",
       "931     5\n",
       "Name: Labels, Length: 253, dtype: int64"
      ]
     },
     "execution_count": 171,
     "metadata": {},
     "output_type": "execute_result"
    }
   ],
   "source": [
    "y_test"
   ]
  },
  {
   "cell_type": "code",
   "execution_count": 172,
   "metadata": {},
   "outputs": [],
   "source": [
    "vectorize_layer.adapt(x_train.values)"
   ]
  },
  {
   "cell_type": "code",
   "execution_count": 173,
   "metadata": {},
   "outputs": [],
   "source": [
    "from tensorflow.keras.layers import LSTM, Bidirectional, Dense, Embedding, Flatten, LSTM, Dropout, GRU, GlobalAveragePooling1D\n",
    "from tensorflow.keras.losses import CategoricalCrossentropy\n",
    "from tensorflow.keras.optimizers import Adam\n",
    "from tensorflow.keras import Sequential\n",
    "from tensorflow.keras import Model\n",
    "from tensorflow.keras.callbacks import EarlyStopping, ModelCheckpoint"
   ]
  },
  {
   "cell_type": "code",
   "execution_count": 174,
   "metadata": {},
   "outputs": [],
   "source": [
    "model = Sequential([\n",
    "    vectorize_layer,\n",
    "    Embedding(input_dim = vocabs, output_dim = 100, input_length=max_length),\n",
    "    # LSTM(128, recurrent_activation=\"sigmoid\"),\n",
    "    GlobalAveragePooling1D(),\n",
    "    Dense(128, activation=\"relu\"), # https://en.wikipedia.org/wiki/Rectifier_(neural_networks)\n",
    "    # Dropout(0.2), # Randomly set inputs to 0 with the probability in input, here 0.2 to prevent overfitting\n",
    "    Dense(6, activation = \"Softmax\"), # Output function\n",
    "])"
   ]
  },
  {
   "cell_type": "code",
   "execution_count": 175,
   "metadata": {},
   "outputs": [
    {
     "name": "stdout",
     "output_type": "stream",
     "text": [
      "Model: \"sequential_8\"\n",
      "_________________________________________________________________\n",
      " Layer (type)                Output Shape              Param #   \n",
      "=================================================================\n",
      " text_vectorization_4 (Text  (None, 100)               0         \n",
      " Vectorization)                                                  \n",
      "                                                                 \n",
      " embedding_8 (Embedding)     (None, 100, 100)          100000    \n",
      "                                                                 \n",
      " global_average_pooling1d_4  (None, 100)               0         \n",
      "  (GlobalAveragePooling1D)                                       \n",
      "                                                                 \n",
      " dense_8 (Dense)             (None, 128)               12928     \n",
      "                                                                 \n",
      " dense_9 (Dense)             (None, 6)                 774       \n",
      "                                                                 \n",
      "=================================================================\n",
      "Total params: 113702 (444.15 KB)\n",
      "Trainable params: 113702 (444.15 KB)\n",
      "Non-trainable params: 0 (0.00 Byte)\n",
      "_________________________________________________________________\n"
     ]
    }
   ],
   "source": [
    "model.summary()"
   ]
  },
  {
   "cell_type": "code",
   "execution_count": 176,
   "metadata": {},
   "outputs": [],
   "source": [
    "def toVector(column):\n",
    "  vector = []\n",
    "  for val in column:\n",
    "    res = [0, 0, 0, 0, 0, 0]\n",
    "    res[val] = 1\n",
    "    vector.append(res)\n",
    "  return np.array(vector)"
   ]
  },
  {
   "cell_type": "code",
   "execution_count": 193,
   "metadata": {},
   "outputs": [
    {
     "name": "stdout",
     "output_type": "stream",
     "text": [
      "Epoch 1/32\n",
      "32/32 [==============================] - 2s 23ms/step - loss: 0.0021 - auc_24: 1.0000 - val_loss: 8.7987 - val_auc_24: 0.5299\n",
      "Epoch 2/32\n",
      "32/32 [==============================] - 0s 7ms/step - loss: 0.0018 - auc_24: 1.0000 - val_loss: 8.6930 - val_auc_24: 0.5273\n",
      "Epoch 3/32\n",
      "32/32 [==============================] - 0s 7ms/step - loss: 0.0017 - auc_24: 1.0000 - val_loss: 8.8971 - val_auc_24: 0.5373\n",
      "Epoch 4/32\n",
      "32/32 [==============================] - 0s 7ms/step - loss: 0.0025 - auc_24: 1.0000 - val_loss: 8.8662 - val_auc_24: 0.5288\n",
      "Epoch 5/32\n",
      "32/32 [==============================] - 0s 7ms/step - loss: 0.0010 - auc_24: 1.0000 - val_loss: 8.9101 - val_auc_24: 0.5345\n",
      "Epoch 6/32\n",
      "32/32 [==============================] - 0s 7ms/step - loss: 0.0023 - auc_24: 1.0000 - val_loss: 8.9749 - val_auc_24: 0.5340\n",
      "Epoch 7/32\n",
      "32/32 [==============================] - 0s 7ms/step - loss: 0.0011 - auc_24: 1.0000 - val_loss: 9.0408 - val_auc_24: 0.5250\n",
      "Epoch 8/32\n",
      "32/32 [==============================] - 0s 7ms/step - loss: 8.3219e-04 - auc_24: 1.0000 - val_loss: 9.1572 - val_auc_24: 0.5310\n",
      "Epoch 9/32\n",
      "32/32 [==============================] - 0s 7ms/step - loss: 7.6533e-04 - auc_24: 1.0000 - val_loss: 9.1730 - val_auc_24: 0.5287\n",
      "Epoch 10/32\n",
      "32/32 [==============================] - 0s 8ms/step - loss: 6.7400e-04 - auc_24: 1.0000 - val_loss: 9.2891 - val_auc_24: 0.5309\n",
      "Epoch 11/32\n",
      "32/32 [==============================] - 0s 8ms/step - loss: 7.2482e-04 - auc_24: 1.0000 - val_loss: 9.3802 - val_auc_24: 0.5281\n",
      "Epoch 12/32\n",
      "32/32 [==============================] - 0s 8ms/step - loss: 5.5815e-04 - auc_24: 1.0000 - val_loss: 9.3464 - val_auc_24: 0.5280\n",
      "Epoch 13/32\n",
      "32/32 [==============================] - 0s 8ms/step - loss: 6.3896e-04 - auc_24: 1.0000 - val_loss: 9.4483 - val_auc_24: 0.5313\n",
      "Epoch 14/32\n",
      "32/32 [==============================] - 0s 7ms/step - loss: 5.6140e-04 - auc_24: 1.0000 - val_loss: 9.4969 - val_auc_24: 0.5276\n",
      "Epoch 15/32\n",
      "32/32 [==============================] - 0s 8ms/step - loss: 5.7430e-04 - auc_24: 1.0000 - val_loss: 9.5307 - val_auc_24: 0.5274\n",
      "Epoch 16/32\n",
      "32/32 [==============================] - 0s 7ms/step - loss: 4.8122e-04 - auc_24: 1.0000 - val_loss: 9.4882 - val_auc_24: 0.5329\n",
      "Epoch 17/32\n",
      "32/32 [==============================] - 0s 7ms/step - loss: 5.2185e-04 - auc_24: 1.0000 - val_loss: 9.5946 - val_auc_24: 0.5298\n",
      "Epoch 18/32\n",
      "32/32 [==============================] - 0s 7ms/step - loss: 4.3042e-04 - auc_24: 1.0000 - val_loss: 9.7113 - val_auc_24: 0.5329\n",
      "Epoch 19/32\n",
      "32/32 [==============================] - 0s 7ms/step - loss: 4.2253e-04 - auc_24: 1.0000 - val_loss: 9.7148 - val_auc_24: 0.5282\n",
      "Epoch 20/32\n",
      "32/32 [==============================] - 0s 8ms/step - loss: 4.0553e-04 - auc_24: 1.0000 - val_loss: 9.8058 - val_auc_24: 0.5272\n",
      "Epoch 21/32\n",
      "32/32 [==============================] - 0s 8ms/step - loss: 4.7290e-04 - auc_24: 1.0000 - val_loss: 9.8535 - val_auc_24: 0.5321\n",
      "Epoch 22/32\n",
      "32/32 [==============================] - 0s 7ms/step - loss: 4.4163e-04 - auc_24: 1.0000 - val_loss: 9.8308 - val_auc_24: 0.5293\n",
      "Epoch 23/32\n",
      "32/32 [==============================] - 0s 7ms/step - loss: 3.8468e-04 - auc_24: 1.0000 - val_loss: 9.9204 - val_auc_24: 0.5314\n",
      "Epoch 24/32\n",
      "32/32 [==============================] - 0s 7ms/step - loss: 3.3664e-04 - auc_24: 1.0000 - val_loss: 10.0120 - val_auc_24: 0.5258\n",
      "Epoch 25/32\n",
      "32/32 [==============================] - 0s 7ms/step - loss: 3.0043e-04 - auc_24: 1.0000 - val_loss: 10.0456 - val_auc_24: 0.5294\n",
      "Epoch 26/32\n",
      "32/32 [==============================] - 0s 7ms/step - loss: 3.9748e-04 - auc_24: 1.0000 - val_loss: 10.1225 - val_auc_24: 0.5333\n",
      "Epoch 27/32\n",
      "32/32 [==============================] - 0s 7ms/step - loss: 5.4177e-04 - auc_24: 1.0000 - val_loss: 10.0533 - val_auc_24: 0.5323\n",
      "Epoch 28/32\n",
      "32/32 [==============================] - 0s 7ms/step - loss: 3.1465e-04 - auc_24: 1.0000 - val_loss: 10.1952 - val_auc_24: 0.5296\n",
      "Epoch 29/32\n",
      "32/32 [==============================] - 0s 10ms/step - loss: 2.8012e-04 - auc_24: 1.0000 - val_loss: 10.2668 - val_auc_24: 0.5229\n",
      "Epoch 30/32\n",
      "32/32 [==============================] - 0s 7ms/step - loss: 3.0266e-04 - auc_24: 1.0000 - val_loss: 10.3782 - val_auc_24: 0.5252\n",
      "Epoch 31/32\n",
      "32/32 [==============================] - 0s 9ms/step - loss: 2.3545e-04 - auc_24: 1.0000 - val_loss: 10.3349 - val_auc_24: 0.5264\n",
      "Epoch 32/32\n",
      "32/32 [==============================] - 0s 7ms/step - loss: 2.0235e-04 - auc_24: 1.0000 - val_loss: 10.3880 - val_auc_24: 0.5288\n"
     ]
    }
   ],
   "source": [
    "\n",
    "model.compile(optimizer=Adam(learning_rate=0.001), # Optimizer modifies the weights with specified learning rate\n",
    "              loss=CategoricalCrossentropy(),\n",
    "              metrics=[tf.metrics.AUC()],\n",
    "              )\n",
    "  \n",
    "history = model.fit(x_train, toVector(y_train),\n",
    "          initial_epoch=0,\n",
    "          epochs=32,\n",
    "          validation_data=(x_test, toVector(y_test)),\n",
    "          batch_size=32,\n",
    "        #   callbacks = callback\n",
    "          )"
   ]
  },
  {
   "cell_type": "code",
   "execution_count": 194,
   "metadata": {},
   "outputs": [
    {
     "data": {
      "image/png": "[encoded data removed]",
      "text/plain": [
       "<Figure size 640x480 with 1 Axes>"
      ]
     },
     "metadata": {},
     "output_type": "display_data"
    }
   ],
   "source": [
    "loss = history.history[\"loss\"]\n",
    "plt.plot(loss)\n",
    "plt.xlabel(\"Epoch\")\n",
    "plt.ylabel(\"Loss\")\n",
    "plt.show()"
   ]
  },
  {
   "cell_type": "code",
   "execution_count": 196,
   "metadata": {},
   "outputs": [
    {
     "data": {
      "image/png": "[encoded data removed]",
      "text/plain": [
       "<Figure size 640x480 with 1 Axes>"
      ]
     },
     "metadata": {},
     "output_type": "display_data"
    }
   ],
   "source": [
    "auc = history.history[\"auc_24\"]\n",
    "plt.plot(auc)\n",
    "plt.xlabel(\"Epoch\")\n",
    "plt.ylabel(\"AUC\")\n",
    "plt.show()"
   ]
  },
  {
   "cell_type": "markdown",
   "metadata": {},
   "source": [
    "Sur 32 itération d'entrainement du modèle, on constate sur le graphique que la valeur de la loss tend à diminuer\n",
    "\n",
    "\n",
    "plus d'epochs serait contre productif, le modèle devient overfitted au bout de x epochs (réduire le nombre de neuronnes, couches de droppout, ...)"
   ]
  },
  {
   "attachments": {
    "image-2.png": {
     "image/png": "[encoded data removed]"
    },
    "image.png": {
     "image/png": "[encoded data removed]"
    }
   },
   "cell_type": "markdown",
   "metadata": {},
   "source": [
    "Pour 100 epochs on a pour le graphique de la loss :\n",
    "\n",
    "![image.png](attachment:image.png)\n",
    "\n",
    "Et pour le graphique de l'AUC :\n",
    "\n",
    "![image-2.png](attachment:image-2.png)"
   ]
  },
  {
   "cell_type": "code",
   "execution_count": 197,
   "metadata": {},
   "outputs": [
    {
     "name": "stdout",
     "output_type": "stream",
     "text": [
      "8/8 [==============================] - 0s 6ms/step - loss: 10.3880 - auc_24: 0.5288\n"
     ]
    },
    {
     "data": {
      "text/plain": [
       "[10.38796329498291, 0.5288491249084473]"
      ]
     },
     "execution_count": 197,
     "metadata": {},
     "output_type": "execute_result"
    }
   ],
   "source": [
    "model.evaluate(x_test, toVector(y_test)) # Returns loss and accuracy"
   ]
  },
  {
   "attachments": {
    "image.png": {
     "image/png": "[encoded data removed]"
    }
   },
   "cell_type": "markdown",
   "metadata": {},
   "source": [
    "Notre modèle est overfitted, il n'est plus capable de gérer de nouvelles données car il a trop été entrainé sur les données d'entrainement.\n",
    "\n",
    "![image.png](attachment:image.png)"
   ]
  }
 ],
 "metadata": {
  "kernelspec": {
   "display_name": "Python 3",
   "language": "python",
   "name": "python3"
  },
  "language_info": {
   "codemirror_mode": {
    "name": "ipython",
    "version": 3
   },
   "file_extension": ".py",
   "mimetype": "text/x-python",
   "name": "python",
   "nbconvert_exporter": "python",
   "pygments_lexer": "ipython3",
   "version": "3.10.12"
  }
 },
 "nbformat": 4,
 "nbformat_minor": 2
}
