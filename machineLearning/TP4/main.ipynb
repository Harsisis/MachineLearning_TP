{
 "cells": [
  {
   "cell_type": "markdown",
   "metadata": {},
   "source": [
    "# Analyse machine learning de fakes news"
   ]
  },
  {
   "cell_type": "code",
   "execution_count": 48,
   "metadata": {},
   "outputs": [],
   "source": [
    "import re\n",
    "import pandas as pd\n",
    "import tensorflow as tf"
   ]
  },
  {
   "cell_type": "markdown",
   "metadata": {},
   "source": [
    "## Import des données"
   ]
  },
  {
   "cell_type": "code",
   "execution_count": 49,
   "metadata": {},
   "outputs": [],
   "source": [
    "# Chargement du fichier CSV de test et nettoyage sommaire\n",
    "df_test = pd.read_csv(\"test.csv\")"
   ]
  },
  {
   "cell_type": "code",
   "execution_count": 50,
   "metadata": {},
   "outputs": [],
   "source": [
    "# Chargement du fichier CSV de train et nettoyage sommaire\n",
    "df_train = pd.read_csv(\"train.csv\")"
   ]
  },
  {
   "cell_type": "markdown",
   "metadata": {},
   "source": [
    "## Nettoyage des données\n",
    "- suppression des données vide"
   ]
  },
  {
   "cell_type": "code",
   "execution_count": 51,
   "metadata": {},
   "outputs": [],
   "source": [
    "df_test['Text'] = df_test['Text'].apply(lambda x : str(x).strip())\n",
    "df_test = df_test.dropna()\n",
    "\n",
    "df_train['Text'] = df_train['Text'].apply(lambda x : str(x).strip())\n",
    "df_train = df_train.dropna()"
   ]
  },
  {
   "cell_type": "markdown",
   "metadata": {},
   "source": [
    "- suppression des entrées non anglaise"
   ]
  },
  {
   "cell_type": "code",
   "execution_count": 52,
   "metadata": {},
   "outputs": [],
   "source": [
    "from langdetect import detect\n",
    "\n",
    "def detect_lang(text):\n",
    "    try:\n",
    "        return detect(text)\n",
    "    except:\n",
    "        return 'unknown'"
   ]
  },
  {
   "cell_type": "code",
   "execution_count": 53,
   "metadata": {},
   "outputs": [],
   "source": [
    "df_test['lang'] = df_test['Text'].apply(detect_lang)\n",
    "df_test['lang'].unique()\n",
    "\n",
    "df_train['lang'] = df_test['Text'].apply(detect_lang)\n",
    "df_train['lang'].unique()\n",
    "\n",
    "df_train = df_train[df_train['lang'] == 'en'] # Keep only english reviews\n",
    "df_test = df_test[df_test['lang'] == 'en'] # Keep only english reviews"
   ]
  },
  {
   "cell_type": "markdown",
   "metadata": {},
   "source": [
    "- nettoyage de la colonne de texte avec passage de tout le texte en lowercase"
   ]
  },
  {
   "cell_type": "code",
   "execution_count": 54,
   "metadata": {},
   "outputs": [],
   "source": [
    "def clean_data(text):\n",
    "    # Remove all the special characters\n",
    "    processed_text = re.sub(r'\\W', ' ', text)\n",
    "    # remove all single characters\n",
    "    processed_text= re.sub(r'\\s+[a-zA-Z]\\s+', ' ', processed_text)\n",
    "    # Remove single characters from the start\n",
    "    processed_text = re.sub(r'\\^[a-zA-Z]\\s+', ' ', processed_text)\n",
    "    # Substituting multiple spaces with single space\n",
    "    processed_text = re.sub(r'\\s+', ' ', processed_text, flags=re.I)\n",
    "    # Removing prefixed 'b'\n",
    "    processed_text = re.sub(r'^b\\s+', '', processed_text)\n",
    "    # Converting to Lowercase\n",
    "    processed_text = processed_text.lower()\n",
    "\n",
    "    return processed_text"
   ]
  },
  {
   "cell_type": "code",
   "execution_count": 55,
   "metadata": {},
   "outputs": [],
   "source": [
    "df_train = df_train.drop(columns={'lang'})\n",
    "df_test = df_test.drop(columns={'lang'})\n",
    "\n",
    "df_train = df_train.drop_duplicates(subset=\"Text\")\n",
    "df_test = df_test.drop_duplicates(subset=\"Text\")\n",
    "\n",
    "df_train['Text'] = df_train['Text'].apply(clean_data)\n",
    "df_test['Text'] = df_test['Text'].apply(clean_data)\n"
   ]
  },
  {
   "cell_type": "markdown",
   "metadata": {},
   "source": [
    "## Affichage des données nettoyées\n",
    "- données d'entraînements"
   ]
  },
  {
   "cell_type": "code",
   "execution_count": 56,
   "metadata": {},
   "outputs": [
    {
     "data": {
      "text/html": [
       "<div>\n",
       "<style scoped>\n",
       "    .dataframe tbody tr th:only-of-type {\n",
       "        vertical-align: middle;\n",
       "    }\n",
       "\n",
       "    .dataframe tbody tr th {\n",
       "        vertical-align: top;\n",
       "    }\n",
       "\n",
       "    .dataframe thead th {\n",
       "        text-align: right;\n",
       "    }\n",
       "</style>\n",
       "<table border=\"1\" class=\"dataframe\">\n",
       "  <thead>\n",
       "    <tr style=\"text-align: right;\">\n",
       "      <th></th>\n",
       "      <th>Labels</th>\n",
       "      <th>Text</th>\n",
       "      <th>Text_Tag</th>\n",
       "    </tr>\n",
       "  </thead>\n",
       "  <tbody>\n",
       "    <tr>\n",
       "      <th>0</th>\n",
       "      <td>1</td>\n",
       "      <td>says the annies list political group supports ...</td>\n",
       "      <td>abortion</td>\n",
       "    </tr>\n",
       "    <tr>\n",
       "      <th>1</th>\n",
       "      <td>2</td>\n",
       "      <td>when did the decline of coal start it started ...</td>\n",
       "      <td>energy,history,job-accomplishments</td>\n",
       "    </tr>\n",
       "    <tr>\n",
       "      <th>2</th>\n",
       "      <td>3</td>\n",
       "      <td>hillary clinton agrees with john mccain by vot...</td>\n",
       "      <td>foreign-policy</td>\n",
       "    </tr>\n",
       "    <tr>\n",
       "      <th>3</th>\n",
       "      <td>1</td>\n",
       "      <td>health care reform legislation is likely to ma...</td>\n",
       "      <td>health-care</td>\n",
       "    </tr>\n",
       "    <tr>\n",
       "      <th>4</th>\n",
       "      <td>2</td>\n",
       "      <td>the economic turnaround started at the end of ...</td>\n",
       "      <td>economy,jobs</td>\n",
       "    </tr>\n",
       "    <tr>\n",
       "      <th>...</th>\n",
       "      <td>...</td>\n",
       "      <td>...</td>\n",
       "      <td>...</td>\n",
       "    </tr>\n",
       "    <tr>\n",
       "      <th>1262</th>\n",
       "      <td>1</td>\n",
       "      <td>says new report proves the stimulus supported ...</td>\n",
       "      <td>stimulus</td>\n",
       "    </tr>\n",
       "    <tr>\n",
       "      <th>1263</th>\n",
       "      <td>4</td>\n",
       "      <td>says its absurd to say theres enough data to e...</td>\n",
       "      <td>health-care,science,sports</td>\n",
       "    </tr>\n",
       "    <tr>\n",
       "      <th>1264</th>\n",
       "      <td>1</td>\n",
       "      <td>the wives of the 9 11 hijackers knew exactly w...</td>\n",
       "      <td>history,terrorism</td>\n",
       "    </tr>\n",
       "    <tr>\n",
       "      <th>1265</th>\n",
       "      <td>4</td>\n",
       "      <td>says jill mccabe supports late term abortions ...</td>\n",
       "      <td>abortion</td>\n",
       "    </tr>\n",
       "    <tr>\n",
       "      <th>1266</th>\n",
       "      <td>1</td>\n",
       "      <td>says s rep nancy pelosi said employers cutting...</td>\n",
       "      <td>fake-news</td>\n",
       "    </tr>\n",
       "  </tbody>\n",
       "</table>\n",
       "<p>1259 rows × 3 columns</p>\n",
       "</div>"
      ],
      "text/plain": [
       "      Labels                                               Text  \\\n",
       "0          1  says the annies list political group supports ...   \n",
       "1          2  when did the decline of coal start it started ...   \n",
       "2          3  hillary clinton agrees with john mccain by vot...   \n",
       "3          1  health care reform legislation is likely to ma...   \n",
       "4          2  the economic turnaround started at the end of ...   \n",
       "...      ...                                                ...   \n",
       "1262       1  says new report proves the stimulus supported ...   \n",
       "1263       4  says its absurd to say theres enough data to e...   \n",
       "1264       1  the wives of the 9 11 hijackers knew exactly w...   \n",
       "1265       4  says jill mccabe supports late term abortions ...   \n",
       "1266       1  says s rep nancy pelosi said employers cutting...   \n",
       "\n",
       "                                Text_Tag  \n",
       "0                               abortion  \n",
       "1     energy,history,job-accomplishments  \n",
       "2                         foreign-policy  \n",
       "3                            health-care  \n",
       "4                           economy,jobs  \n",
       "...                                  ...  \n",
       "1262                            stimulus  \n",
       "1263          health-care,science,sports  \n",
       "1264                   history,terrorism  \n",
       "1265                            abortion  \n",
       "1266                           fake-news  \n",
       "\n",
       "[1259 rows x 3 columns]"
      ]
     },
     "execution_count": 56,
     "metadata": {},
     "output_type": "execute_result"
    }
   ],
   "source": [
    "df_train"
   ]
  },
  {
   "cell_type": "markdown",
   "metadata": {},
   "source": [
    "- données de tests"
   ]
  },
  {
   "cell_type": "code",
   "execution_count": 57,
   "metadata": {},
   "outputs": [
    {
     "data": {
      "text/html": [
       "<div>\n",
       "<style scoped>\n",
       "    .dataframe tbody tr th:only-of-type {\n",
       "        vertical-align: middle;\n",
       "    }\n",
       "\n",
       "    .dataframe tbody tr th {\n",
       "        vertical-align: top;\n",
       "    }\n",
       "\n",
       "    .dataframe thead th {\n",
       "        text-align: right;\n",
       "    }\n",
       "</style>\n",
       "<table border=\"1\" class=\"dataframe\">\n",
       "  <thead>\n",
       "    <tr style=\"text-align: right;\">\n",
       "      <th></th>\n",
       "      <th>Text</th>\n",
       "      <th>Text_Tag</th>\n",
       "    </tr>\n",
       "  </thead>\n",
       "  <tbody>\n",
       "    <tr>\n",
       "      <th>0</th>\n",
       "      <td>building wall on the s mexico border will take...</td>\n",
       "      <td>immigration</td>\n",
       "    </tr>\n",
       "    <tr>\n",
       "      <th>1</th>\n",
       "      <td>wisconsin is on pace to double the number of l...</td>\n",
       "      <td>jobs</td>\n",
       "    </tr>\n",
       "    <tr>\n",
       "      <th>2</th>\n",
       "      <td>says john mccain has done nothing to help the ...</td>\n",
       "      <td>military,veterans,voting-record</td>\n",
       "    </tr>\n",
       "    <tr>\n",
       "      <th>3</th>\n",
       "      <td>suzanne bonamici supports plan that will cut c...</td>\n",
       "      <td>medicare,message-machine-2012,campaign-adverti...</td>\n",
       "    </tr>\n",
       "    <tr>\n",
       "      <th>4</th>\n",
       "      <td>when asked by reporter whether hes at the cent...</td>\n",
       "      <td>campaign-finance,legal-issues,campaign-adverti...</td>\n",
       "    </tr>\n",
       "    <tr>\n",
       "      <th>...</th>\n",
       "      <td>...</td>\n",
       "      <td>...</td>\n",
       "    </tr>\n",
       "    <tr>\n",
       "      <th>1262</th>\n",
       "      <td>says his budget provides the highest state fun...</td>\n",
       "      <td>education</td>\n",
       "    </tr>\n",
       "    <tr>\n",
       "      <th>1263</th>\n",
       "      <td>ive been here almost every day</td>\n",
       "      <td>civil-rights,crime,criminal-justice</td>\n",
       "    </tr>\n",
       "    <tr>\n",
       "      <th>1264</th>\n",
       "      <td>in the early 1980s sen edward kennedy secretly...</td>\n",
       "      <td>bipartisanship,congress,foreign-policy,history</td>\n",
       "    </tr>\n",
       "    <tr>\n",
       "      <th>1265</th>\n",
       "      <td>says an epa permit languished under strickland...</td>\n",
       "      <td>environment,government-efficiency</td>\n",
       "    </tr>\n",
       "    <tr>\n",
       "      <th>1266</th>\n",
       "      <td>says the governor is going around the state ta...</td>\n",
       "      <td>state-budget,state-finances,taxes</td>\n",
       "    </tr>\n",
       "  </tbody>\n",
       "</table>\n",
       "<p>1263 rows × 2 columns</p>\n",
       "</div>"
      ],
      "text/plain": [
       "                                                   Text  \\\n",
       "0     building wall on the s mexico border will take...   \n",
       "1     wisconsin is on pace to double the number of l...   \n",
       "2     says john mccain has done nothing to help the ...   \n",
       "3     suzanne bonamici supports plan that will cut c...   \n",
       "4     when asked by reporter whether hes at the cent...   \n",
       "...                                                 ...   \n",
       "1262  says his budget provides the highest state fun...   \n",
       "1263                    ive been here almost every day    \n",
       "1264  in the early 1980s sen edward kennedy secretly...   \n",
       "1265  says an epa permit languished under strickland...   \n",
       "1266  says the governor is going around the state ta...   \n",
       "\n",
       "                                               Text_Tag  \n",
       "0                                           immigration  \n",
       "1                                                  jobs  \n",
       "2                       military,veterans,voting-record  \n",
       "3     medicare,message-machine-2012,campaign-adverti...  \n",
       "4     campaign-finance,legal-issues,campaign-adverti...  \n",
       "...                                                 ...  \n",
       "1262                                          education  \n",
       "1263                civil-rights,crime,criminal-justice  \n",
       "1264     bipartisanship,congress,foreign-policy,history  \n",
       "1265                  environment,government-efficiency  \n",
       "1266                  state-budget,state-finances,taxes  \n",
       "\n",
       "[1263 rows x 2 columns]"
      ]
     },
     "execution_count": 57,
     "metadata": {},
     "output_type": "execute_result"
    }
   ],
   "source": [
    "df_test"
   ]
  },
  {
   "cell_type": "markdown",
   "metadata": {},
   "source": [
    "## Analyse des données nettoyées "
   ]
  },
  {
   "cell_type": "code",
   "execution_count": 59,
   "metadata": {},
   "outputs": [
    {
     "name": "stdout",
     "output_type": "stream",
     "text": [
      "Nombre de mots uniques dans les données de test : 4364\n",
      "Nombre de mots uniques dans les données de train : 4299\n"
     ]
    }
   ],
   "source": [
    "# Nombre de mots uniques\n",
    "\n",
    "def findWordsCount(column):\n",
    "    # Créer un ensemble pour stocker les mots\n",
    "    mots = set()\n",
    "\n",
    "    # Parcourir les reviews et ajouter chaque mot à l'ensemble\n",
    "    for review in column:\n",
    "        for word in review.split():\n",
    "            mots.add(word)\n",
    "    return len(mots)\n",
    "\n",
    "print(f\"Nombre de mots uniques dans les données de test : {findWordsCount(df_test['Text'])}\")\n",
    "print(f\"Nombre de mots uniques dans les données de train : {findWordsCount(df_train['Text'])}\")"
   ]
  }
 ],
 "metadata": {
  "kernelspec": {
   "display_name": "Python 3",
   "language": "python",
   "name": "python3"
  },
  "language_info": {
   "codemirror_mode": {
    "name": "ipython",
    "version": 3
   },
   "file_extension": ".py",
   "mimetype": "text/x-python",
   "name": "python",
   "nbconvert_exporter": "python",
   "pygments_lexer": "ipython3",
   "version": "3.11.8"
  }
 },
 "nbformat": 4,
 "nbformat_minor": 2
}
