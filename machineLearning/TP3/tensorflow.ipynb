{
 "cells": [
  {
   "cell_type": "code",
   "execution_count": 85,
   "metadata": {},
   "outputs": [
    {
     "data": {
      "text/plain": [
       "0      I'm scared and hearing creepy voices.  So I'll...\n",
       "1      Best game, more better than Sam Pepper's YouTu...\n",
       "2      A littly iffy on the controls, but once you kn...\n",
       "3      Great game, fun and colorful and all that.A si...\n",
       "4      Not many games have the cute tag right next to...\n",
       "                             ...                        \n",
       "995    Early Access ReviewPersonally, I downloaded th...\n",
       "996    Early Access ReviewThis game is honestly a one...\n",
       "997    It was such a fun game early on. I had an issu...\n",
       "998    Early Access ReviewA great game, beautiful gra...\n",
       "999    Early Access ReviewReally cool game, especiall...\n",
       "Name: user_review, Length: 1000, dtype: object"
      ]
     },
     "execution_count": 85,
     "metadata": {},
     "output_type": "execute_result"
    }
   ],
   "source": [
    "import pandas as pd\n",
    "import tensorflow as tf\n",
    "\n",
    "# Chargement du fichier CSV\n",
    "data = pd.read_csv(\"steam.csv\")\n",
    "\n",
    "# Séparation des données en entrée et sortie\n",
    "X = data[\"user_review\"]\n",
    "y = data[\"user_suggestion\"]\n",
    "\n",
    "# Réduction de la taille du jeu de données (optionnel)\n",
    "X = X[:1000]\n",
    "y = y[:1000]\n",
    "X"
   ]
  },
  {
   "cell_type": "code",
   "execution_count": 86,
   "metadata": {},
   "outputs": [
    {
     "data": {
      "text/plain": [
       "0      1\n",
       "1      1\n",
       "2      1\n",
       "3      1\n",
       "4      1\n",
       "      ..\n",
       "995    1\n",
       "996    1\n",
       "997    1\n",
       "998    1\n",
       "999    1\n",
       "Name: user_suggestion, Length: 1000, dtype: int64"
      ]
     },
     "execution_count": 86,
     "metadata": {},
     "output_type": "execute_result"
    }
   ],
   "source": [
    "y"
   ]
  },
  {
   "cell_type": "code",
   "execution_count": 87,
   "metadata": {},
   "outputs": [],
   "source": [
    "# Tokenisation des textes\n",
    "tokenizer = tf.keras.preprocessing.text.Tokenizer(num_words=5000)\n",
    "tokenizer.fit_on_texts(X)\n",
    "\n",
    "# Conversion des textes en séquences d'entiers\n",
    "X_encoded = tokenizer.texts_to_sequences(X)\n",
    "\n",
    "# Padding des séquences pour avoir une longueur uniforme\n",
    "X_padded = tf.keras.preprocessing.sequence.pad_sequences(X_encoded, maxlen=100)\n",
    "\n"
   ]
  },
  {
   "cell_type": "code",
   "execution_count": 88,
   "metadata": {},
   "outputs": [
    {
     "data": {
      "text/plain": [
       "0      1\n",
       "1      1\n",
       "2      1\n",
       "3      1\n",
       "4      1\n",
       "      ..\n",
       "995    1\n",
       "996    1\n",
       "997    1\n",
       "998    1\n",
       "999    1\n",
       "Name: user_suggestion, Length: 1000, dtype: int64"
      ]
     },
     "execution_count": 88,
     "metadata": {},
     "output_type": "execute_result"
    }
   ],
   "source": [
    "y"
   ]
  },
  {
   "cell_type": "code",
   "execution_count": 89,
   "metadata": {},
   "outputs": [],
   "source": [
    "# Définition du nombre d'unités cachées\n",
    "n_units = 32\n",
    "\n",
    "# Création du modèle\n",
    "model = tf.keras.Sequential([\n",
    "    tf.keras.layers.Embedding(input_dim=5000, output_dim=128),\n",
    "    tf.keras.layers.LSTM(units=n_units, activation=\"relu\"),\n",
    "    tf.keras.layers.Dense(units=1, activation=\"sigmoid\")\n",
    "])\n",
    "\n",
    "# Compilation du modèle\n",
    "model.compile(optimizer=\"adam\", loss=\"binary_crossentropy\", metrics=[\"accuracy\"])\n"
   ]
  },
  {
   "cell_type": "code",
   "execution_count": 90,
   "metadata": {},
   "outputs": [
    {
     "name": "stdout",
     "output_type": "stream",
     "text": [
      "Epoch 1/10\n",
      "32/32 [==============================] - 4s 37ms/step - loss: 0.6644 - accuracy: 0.7070\n",
      "Epoch 2/10\n",
      "32/32 [==============================] - 1s 39ms/step - loss: 50.0410 - accuracy: 0.7740\n",
      "Epoch 3/10\n",
      "32/32 [==============================] - 1s 38ms/step - loss: 5.0705 - accuracy: 0.7740\n",
      "Epoch 4/10\n",
      "32/32 [==============================] - 1s 44ms/step - loss: 0.5456 - accuracy: 0.7740\n",
      "Epoch 5/10\n",
      "32/32 [==============================] - 1s 41ms/step - loss: 0.3348 - accuracy: 0.7750\n",
      "Epoch 6/10\n",
      "32/32 [==============================] - 1s 38ms/step - loss: 8.3678 - accuracy: 0.7740\n",
      "Epoch 7/10\n",
      "32/32 [==============================] - 1s 41ms/step - loss: 0.5526 - accuracy: 0.7760\n",
      "Epoch 8/10\n",
      "32/32 [==============================] - 1s 41ms/step - loss: 0.5343 - accuracy: 0.7950\n",
      "Epoch 9/10\n",
      "32/32 [==============================] - 1s 38ms/step - loss: 282.7305 - accuracy: 0.8720\n",
      "Epoch 10/10\n",
      "32/32 [==============================] - 1s 38ms/step - loss: 0.4718 - accuracy: 0.8700\n"
     ]
    },
    {
     "data": {
      "text/plain": [
       "<keras.src.callbacks.History at 0x297c5a398d0>"
      ]
     },
     "execution_count": 90,
     "metadata": {},
     "output_type": "execute_result"
    }
   ],
   "source": [
    "# Entraînement du modèle\n",
    "model.fit(X_padded, y, epochs=10)"
   ]
  }
 ],
 "metadata": {
  "kernelspec": {
   "display_name": "Python 3",
   "language": "python",
   "name": "python3"
  },
  "language_info": {
   "codemirror_mode": {
    "name": "ipython",
    "version": 3
   },
   "file_extension": ".py",
   "mimetype": "text/x-python",
   "name": "python",
   "nbconvert_exporter": "python",
   "pygments_lexer": "ipython3",
   "version": "3.11.8"
  }
 },
 "nbformat": 4,
 "nbformat_minor": 2
}
