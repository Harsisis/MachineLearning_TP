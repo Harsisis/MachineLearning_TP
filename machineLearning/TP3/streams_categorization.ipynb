{
 "cells": [
  {
   "cell_type": "code",
   "execution_count": 1,
   "metadata": {},
   "outputs": [
    {
     "name": "stderr",
     "output_type": "stream",
     "text": [
      "C:\\Users\\cadet\\AppData\\Local\\Temp\\ipykernel_18380\\4272495862.py:2: DeprecationWarning: \n",
      "Pyarrow will become a required dependency of pandas in the next major release of pandas (pandas 3.0),\n",
      "(to allow more performant data types, such as the Arrow string type, and better interoperability with other libraries)\n",
      "but was not found to be installed on your system.\n",
      "If this would cause problems for you,\n",
      "please provide us feedback at https://github.com/pandas-dev/pandas/issues/54466\n",
      "        \n",
      "  import pandas as pd\n"
     ]
    },
    {
     "name": "stdout",
     "output_type": "stream",
     "text": [
      "WARNING:tensorflow:From d:\\installPython\\Lib\\site-packages\\keras\\src\\losses.py:2976: The name tf.losses.sparse_softmax_cross_entropy is deprecated. Please use tf.compat.v1.losses.sparse_softmax_cross_entropy instead.\n",
      "\n"
     ]
    }
   ],
   "source": [
    "import re\n",
    "import pandas as pd\n",
    "import matplotlib.pyplot as plt\n",
    "import seaborn as sns\n",
    "import numpy as np\n",
    "import tensorflow as tf"
   ]
  },
  {
   "cell_type": "code",
   "execution_count": 2,
   "metadata": {},
   "outputs": [],
   "source": [
    "df = pd.read_csv('./steam.csv')"
   ]
  },
  {
   "cell_type": "code",
   "execution_count": 3,
   "metadata": {},
   "outputs": [],
   "source": [
    "df['user_review'] = df['user_review'].apply(lambda x : str(x).strip())\n",
    "df = df.dropna()"
   ]
  },
  {
   "cell_type": "code",
   "execution_count": 4,
   "metadata": {},
   "outputs": [
    {
     "data": {
      "text/plain": [
       "0"
      ]
     },
     "execution_count": 4,
     "metadata": {},
     "output_type": "execute_result"
    }
   ],
   "source": [
    "df['user_review'].apply(lambda x: str(x).strip() == '').sum()"
   ]
  },
  {
   "cell_type": "markdown",
   "metadata": {},
   "source": [
    "#### Detect language to remove non english data"
   ]
  },
  {
   "cell_type": "code",
   "execution_count": 5,
   "metadata": {},
   "outputs": [
    {
     "ename": "ModuleNotFoundError",
     "evalue": "No module named 'langdetect'",
     "output_type": "error",
     "traceback": [
      "\u001b[1;31m---------------------------------------------------------------------------\u001b[0m",
      "\u001b[1;31mModuleNotFoundError\u001b[0m                       Traceback (most recent call last)",
      "Cell \u001b[1;32mIn[5], line 1\u001b[0m\n\u001b[1;32m----> 1\u001b[0m \u001b[38;5;28;01mfrom\u001b[39;00m \u001b[38;5;21;01mlangdetect\u001b[39;00m \u001b[38;5;28;01mimport\u001b[39;00m detect\n\u001b[0;32m      3\u001b[0m \u001b[38;5;28;01mdef\u001b[39;00m \u001b[38;5;21mdetect_lang\u001b[39m(text):\n\u001b[0;32m      4\u001b[0m     \u001b[38;5;28;01mtry\u001b[39;00m:\n",
      "\u001b[1;31mModuleNotFoundError\u001b[0m: No module named 'langdetect'"
     ]
    }
   ],
   "source": [
    "from langdetect import detect\n",
    "\n",
    "def detect_lang(text):\n",
    "    try:\n",
    "        return detect(text)\n",
    "    except:\n",
    "        return 'unknown'"
   ]
  },
  {
   "cell_type": "code",
   "execution_count": null,
   "metadata": {},
   "outputs": [
    {
     "data": {
      "text/plain": [
       "array(['en', 'so', 'unknown', 'vi', 'no', 'it', 'sk', 'uk', 'pl', 'de',\n",
       "       'nl', 'cy', 'tl', 'hu', 'el', 'ru', 'tr', 'et', 'ja', 'bg', 'es',\n",
       "       'fr', 'cs', 'pt', 'sw', 'da', 'ro', 'ko', 'zh-cn', 'sv', 'th',\n",
       "       'fi', 'he', 'sl', 'id'], dtype=object)"
      ]
     },
     "execution_count": 6,
     "metadata": {},
     "output_type": "execute_result"
    }
   ],
   "source": [
    "df['lang'] = df['user_review'].apply(detect_lang)\n",
    "df['lang'].unique()"
   ]
  },
  {
   "cell_type": "code",
   "execution_count": null,
   "metadata": {},
   "outputs": [],
   "source": [
    "df = df[df['lang'] == 'en'] # Keep only english reviews\n",
    "\n",
    "df = df[:1000] # Subsample"
   ]
  },
  {
   "cell_type": "code",
   "execution_count": null,
   "metadata": {},
   "outputs": [],
   "source": [
    "def clean_data(text):\n",
    "    # Remove all the special characters\n",
    "    processed_text = re.sub(r'\\W', ' ', text)\n",
    "    # remove all single characters\n",
    "    processed_text= re.sub(r'\\s+[a-zA-Z]\\s+', ' ', processed_text)\n",
    "    # Remove single characters from the start\n",
    "    processed_text = re.sub(r'\\^[a-zA-Z]\\s+', ' ', processed_text)\n",
    "    # Substituting multiple spaces with single space\n",
    "    processed_text = re.sub(r'\\s+', ' ', processed_text, flags=re.I)\n",
    "    # Removing prefixed 'b'\n",
    "    processed_text = re.sub(r'^b\\s+', '', processed_text)\n",
    "    # Converting to Lowercase\n",
    "    processed_text = processed_text.lower()\n",
    "\n",
    "    return processed_text"
   ]
  },
  {
   "cell_type": "code",
   "execution_count": null,
   "metadata": {},
   "outputs": [
    {
     "data": {
      "text/html": [
       "<div>\n",
       "<style scoped>\n",
       "    .dataframe tbody tr th:only-of-type {\n",
       "        vertical-align: middle;\n",
       "    }\n",
       "\n",
       "    .dataframe tbody tr th {\n",
       "        vertical-align: top;\n",
       "    }\n",
       "\n",
       "    .dataframe thead th {\n",
       "        text-align: right;\n",
       "    }\n",
       "</style>\n",
       "<table border=\"1\" class=\"dataframe\">\n",
       "  <thead>\n",
       "    <tr style=\"text-align: right;\">\n",
       "      <th></th>\n",
       "      <th>review_id</th>\n",
       "      <th>title</th>\n",
       "      <th>year</th>\n",
       "      <th>user_review</th>\n",
       "      <th>user_suggestion</th>\n",
       "      <th>lang</th>\n",
       "    </tr>\n",
       "  </thead>\n",
       "  <tbody>\n",
       "    <tr>\n",
       "      <th>0</th>\n",
       "      <td>1</td>\n",
       "      <td>Spooky's Jump Scare Mansion</td>\n",
       "      <td>2016.0</td>\n",
       "      <td>i scared and hearing creepy voices so ll pause...</td>\n",
       "      <td>1</td>\n",
       "      <td>en</td>\n",
       "    </tr>\n",
       "    <tr>\n",
       "      <th>1</th>\n",
       "      <td>2</td>\n",
       "      <td>Spooky's Jump Scare Mansion</td>\n",
       "      <td>2016.0</td>\n",
       "      <td>best game more better than sam pepper youtube ...</td>\n",
       "      <td>1</td>\n",
       "      <td>en</td>\n",
       "    </tr>\n",
       "    <tr>\n",
       "      <th>2</th>\n",
       "      <td>3</td>\n",
       "      <td>Spooky's Jump Scare Mansion</td>\n",
       "      <td>2016.0</td>\n",
       "      <td>a littly iffy on the controls but once you kno...</td>\n",
       "      <td>1</td>\n",
       "      <td>en</td>\n",
       "    </tr>\n",
       "    <tr>\n",
       "      <th>3</th>\n",
       "      <td>4</td>\n",
       "      <td>Spooky's Jump Scare Mansion</td>\n",
       "      <td>2015.0</td>\n",
       "      <td>great game fun and colorful and all that side ...</td>\n",
       "      <td>1</td>\n",
       "      <td>en</td>\n",
       "    </tr>\n",
       "    <tr>\n",
       "      <th>4</th>\n",
       "      <td>5</td>\n",
       "      <td>Spooky's Jump Scare Mansion</td>\n",
       "      <td>2015.0</td>\n",
       "      <td>not many games have the cute tag right next to...</td>\n",
       "      <td>1</td>\n",
       "      <td>en</td>\n",
       "    </tr>\n",
       "    <tr>\n",
       "      <th>...</th>\n",
       "      <td>...</td>\n",
       "      <td>...</td>\n",
       "      <td>...</td>\n",
       "      <td>...</td>\n",
       "      <td>...</td>\n",
       "      <td>...</td>\n",
       "    </tr>\n",
       "    <tr>\n",
       "      <th>1021</th>\n",
       "      <td>1022</td>\n",
       "      <td>Fractured Space</td>\n",
       "      <td>2016.0</td>\n",
       "      <td>early access reviewhoo rah this game deserves ...</td>\n",
       "      <td>1</td>\n",
       "      <td>en</td>\n",
       "    </tr>\n",
       "    <tr>\n",
       "      <th>1022</th>\n",
       "      <td>1023</td>\n",
       "      <td>Fractured Space</td>\n",
       "      <td>2016.0</td>\n",
       "      <td>i like this game lot because ve been big fans ...</td>\n",
       "      <td>1</td>\n",
       "      <td>en</td>\n",
       "    </tr>\n",
       "    <tr>\n",
       "      <th>1023</th>\n",
       "      <td>1024</td>\n",
       "      <td>Fractured Space</td>\n",
       "      <td>2016.0</td>\n",
       "      <td>world of tanks in space meets moba being f2p w...</td>\n",
       "      <td>1</td>\n",
       "      <td>en</td>\n",
       "    </tr>\n",
       "    <tr>\n",
       "      <th>1024</th>\n",
       "      <td>1025</td>\n",
       "      <td>Fractured Space</td>\n",
       "      <td>2016.0</td>\n",
       "      <td>early access reviewlots of strategy and tactic...</td>\n",
       "      <td>1</td>\n",
       "      <td>en</td>\n",
       "    </tr>\n",
       "    <tr>\n",
       "      <th>1025</th>\n",
       "      <td>1026</td>\n",
       "      <td>Fractured Space</td>\n",
       "      <td>2016.0</td>\n",
       "      <td>it more like world of tanks in space but with ...</td>\n",
       "      <td>1</td>\n",
       "      <td>en</td>\n",
       "    </tr>\n",
       "  </tbody>\n",
       "</table>\n",
       "<p>1000 rows × 6 columns</p>\n",
       "</div>"
      ],
      "text/plain": [
       "      review_id                        title    year  \\\n",
       "0             1  Spooky's Jump Scare Mansion  2016.0   \n",
       "1             2  Spooky's Jump Scare Mansion  2016.0   \n",
       "2             3  Spooky's Jump Scare Mansion  2016.0   \n",
       "3             4  Spooky's Jump Scare Mansion  2015.0   \n",
       "4             5  Spooky's Jump Scare Mansion  2015.0   \n",
       "...         ...                          ...     ...   \n",
       "1021       1022              Fractured Space  2016.0   \n",
       "1022       1023              Fractured Space  2016.0   \n",
       "1023       1024              Fractured Space  2016.0   \n",
       "1024       1025              Fractured Space  2016.0   \n",
       "1025       1026              Fractured Space  2016.0   \n",
       "\n",
       "                                            user_review  user_suggestion lang  \n",
       "0     i scared and hearing creepy voices so ll pause...                1   en  \n",
       "1     best game more better than sam pepper youtube ...                1   en  \n",
       "2     a littly iffy on the controls but once you kno...                1   en  \n",
       "3     great game fun and colorful and all that side ...                1   en  \n",
       "4     not many games have the cute tag right next to...                1   en  \n",
       "...                                                 ...              ...  ...  \n",
       "1021  early access reviewhoo rah this game deserves ...                1   en  \n",
       "1022  i like this game lot because ve been big fans ...                1   en  \n",
       "1023  world of tanks in space meets moba being f2p w...                1   en  \n",
       "1024  early access reviewlots of strategy and tactic...                1   en  \n",
       "1025  it more like world of tanks in space but with ...                1   en  \n",
       "\n",
       "[1000 rows x 6 columns]"
      ]
     },
     "execution_count": 9,
     "metadata": {},
     "output_type": "execute_result"
    }
   ],
   "source": [
    "df['user_review'] = df['user_review'].apply(clean_data)\n",
    "df"
   ]
  },
  {
   "cell_type": "code",
   "execution_count": null,
   "metadata": {},
   "outputs": [
    {
     "data": {
      "text/html": [
       "<div>\n",
       "<style scoped>\n",
       "    .dataframe tbody tr th:only-of-type {\n",
       "        vertical-align: middle;\n",
       "    }\n",
       "\n",
       "    .dataframe tbody tr th {\n",
       "        vertical-align: top;\n",
       "    }\n",
       "\n",
       "    .dataframe thead th {\n",
       "        text-align: right;\n",
       "    }\n",
       "</style>\n",
       "<table border=\"1\" class=\"dataframe\">\n",
       "  <thead>\n",
       "    <tr style=\"text-align: right;\">\n",
       "      <th></th>\n",
       "      <th>user_review</th>\n",
       "      <th>user_suggestion</th>\n",
       "    </tr>\n",
       "  </thead>\n",
       "  <tbody>\n",
       "    <tr>\n",
       "      <th>0</th>\n",
       "      <td>i scared and hearing creepy voices so ll pause...</td>\n",
       "      <td>1</td>\n",
       "    </tr>\n",
       "    <tr>\n",
       "      <th>1</th>\n",
       "      <td>best game more better than sam pepper youtube ...</td>\n",
       "      <td>1</td>\n",
       "    </tr>\n",
       "    <tr>\n",
       "      <th>2</th>\n",
       "      <td>a littly iffy on the controls but once you kno...</td>\n",
       "      <td>1</td>\n",
       "    </tr>\n",
       "    <tr>\n",
       "      <th>3</th>\n",
       "      <td>great game fun and colorful and all that side ...</td>\n",
       "      <td>1</td>\n",
       "    </tr>\n",
       "    <tr>\n",
       "      <th>4</th>\n",
       "      <td>not many games have the cute tag right next to...</td>\n",
       "      <td>1</td>\n",
       "    </tr>\n",
       "    <tr>\n",
       "      <th>...</th>\n",
       "      <td>...</td>\n",
       "      <td>...</td>\n",
       "    </tr>\n",
       "    <tr>\n",
       "      <th>1021</th>\n",
       "      <td>early access reviewhoo rah this game deserves ...</td>\n",
       "      <td>1</td>\n",
       "    </tr>\n",
       "    <tr>\n",
       "      <th>1022</th>\n",
       "      <td>i like this game lot because ve been big fans ...</td>\n",
       "      <td>1</td>\n",
       "    </tr>\n",
       "    <tr>\n",
       "      <th>1023</th>\n",
       "      <td>world of tanks in space meets moba being f2p w...</td>\n",
       "      <td>1</td>\n",
       "    </tr>\n",
       "    <tr>\n",
       "      <th>1024</th>\n",
       "      <td>early access reviewlots of strategy and tactic...</td>\n",
       "      <td>1</td>\n",
       "    </tr>\n",
       "    <tr>\n",
       "      <th>1025</th>\n",
       "      <td>it more like world of tanks in space but with ...</td>\n",
       "      <td>1</td>\n",
       "    </tr>\n",
       "  </tbody>\n",
       "</table>\n",
       "<p>1000 rows × 2 columns</p>\n",
       "</div>"
      ],
      "text/plain": [
       "                                            user_review  user_suggestion\n",
       "0     i scared and hearing creepy voices so ll pause...                1\n",
       "1     best game more better than sam pepper youtube ...                1\n",
       "2     a littly iffy on the controls but once you kno...                1\n",
       "3     great game fun and colorful and all that side ...                1\n",
       "4     not many games have the cute tag right next to...                1\n",
       "...                                                 ...              ...\n",
       "1021  early access reviewhoo rah this game deserves ...                1\n",
       "1022  i like this game lot because ve been big fans ...                1\n",
       "1023  world of tanks in space meets moba being f2p w...                1\n",
       "1024  early access reviewlots of strategy and tactic...                1\n",
       "1025  it more like world of tanks in space but with ...                1\n",
       "\n",
       "[1000 rows x 2 columns]"
      ]
     },
     "execution_count": 10,
     "metadata": {},
     "output_type": "execute_result"
    }
   ],
   "source": [
    "df = df[['user_review', 'user_suggestion']]\n",
    "df"
   ]
  },
  {
   "cell_type": "code",
   "execution_count": null,
   "metadata": {},
   "outputs": [
    {
     "name": "stdout",
     "output_type": "stream",
     "text": [
      "<class 'pandas.core.frame.DataFrame'>\n",
      "Index: 1000 entries, 0 to 1025\n",
      "Data columns (total 2 columns):\n",
      " #   Column           Non-Null Count  Dtype \n",
      "---  ------           --------------  ----- \n",
      " 0   user_review      1000 non-null   object\n",
      " 1   user_suggestion  1000 non-null   int64 \n",
      "dtypes: int64(1), object(1)\n",
      "memory usage: 23.4+ KB\n"
     ]
    }
   ],
   "source": [
    "df = df.drop_duplicates(subset=\"user_review\")\n",
    "df.info()"
   ]
  },
  {
   "cell_type": "code",
   "execution_count": null,
   "metadata": {},
   "outputs": [
    {
     "data": {
      "text/plain": [
       "[]"
      ]
     },
     "execution_count": 12,
     "metadata": {},
     "output_type": "execute_result"
    },
    {
     "data": {
      "image/png": "[encoded data removed]",
      "text/plain": [
       "<Figure size 700x400 with 1 Axes>"
      ]
     },
     "metadata": {},
     "output_type": "display_data"
    }
   ],
   "source": [
    "plt.figure(figsize=[7, 4])\n",
    "sns.countplot(x= df[\"user_suggestion\"], data=df)\n",
    "plt.plot()"
   ]
  },
  {
   "cell_type": "code",
   "execution_count": null,
   "metadata": {},
   "outputs": [],
   "source": [
    "\n",
    "diff = len(df) - len(df[df['user_suggestion'] == 1])\n",
    "weight_ratio = len(df) / diff\n"
   ]
  },
  {
   "cell_type": "code",
   "execution_count": null,
   "metadata": {},
   "outputs": [],
   "source": [
    "from tensorflow.keras.layers import TextVectorization\n",
    "\n",
    "max_length = 100\n",
    "vocabs = 10000 # To be adjusted with the number of word actually present within the dataset and their frequency"
   ]
  },
  {
   "cell_type": "code",
   "execution_count": null,
   "metadata": {},
   "outputs": [],
   "source": [
    "vectorize_layer = TextVectorization(\n",
    "    # standardize=custom_standardization, # To be used instead of pre processing the text before\n",
    "    max_tokens=vocabs,\n",
    "    output_mode='int',\n",
    "    output_sequence_length=max_length)\n"
   ]
  },
  {
   "cell_type": "code",
   "execution_count": null,
   "metadata": {},
   "outputs": [],
   "source": [
    "from sklearn.model_selection import train_test_split\n",
    "y = df[\"user_suggestion\"]\n",
    "x = df['user_review']\n",
    "x_train, x_test, y_train, y_test = train_test_split(x, y, test_size=0.2, random_state=32)"
   ]
  },
  {
   "cell_type": "code",
   "execution_count": null,
   "metadata": {},
   "outputs": [],
   "source": [
    "vectorize_layer.adapt(x_train.values)"
   ]
  },
  {
   "cell_type": "code",
   "execution_count": null,
   "metadata": {},
   "outputs": [],
   "source": [
    "from tensorflow.keras.layers import LSTM, Bidirectional, Dense, Embedding, Flatten, LSTM, Dropout, GRU, GlobalAveragePooling1D\n",
    "from tensorflow.keras.losses import BinaryCrossentropy\n",
    "from tensorflow.keras.optimizers import Adam\n",
    "from tensorflow.keras import Sequential\n",
    "from tensorflow.keras import Model\n",
    "from tensorflow.keras.callbacks import EarlyStopping, ModelCheckpoint"
   ]
  },
  {
   "cell_type": "code",
   "execution_count": null,
   "metadata": {},
   "outputs": [
    {
     "name": "stdout",
     "output_type": "stream",
     "text": [
      "1/1 [==============================] - 0s 54ms/step\n"
     ]
    },
    {
     "data": {
      "text/plain": [
       "array([[[-0.01145682,  0.01360292, -0.01853815, ..., -0.02410907,\n",
       "         -0.03743096, -0.00668894],\n",
       "        [ 0.04308221, -0.03169602, -0.01313264, ..., -0.03239029,\n",
       "         -0.04024638,  0.04295117],\n",
       "        [ 0.00659401,  0.00524842, -0.04986289, ...,  0.04617048,\n",
       "          0.03260129, -0.00952022],\n",
       "        ...,\n",
       "        [ 0.01172156, -0.04474051, -0.04512117, ..., -0.01857225,\n",
       "          0.01873845,  0.03943801],\n",
       "        [ 0.01172156, -0.04474051, -0.04512117, ..., -0.01857225,\n",
       "          0.01873845,  0.03943801],\n",
       "        [ 0.01172156, -0.04474051, -0.04512117, ..., -0.01857225,\n",
       "          0.01873845,  0.03943801]],\n",
       "\n",
       "       [[ 0.04805137, -0.00630801, -0.0358571 , ..., -0.01885675,\n",
       "          0.00610886,  0.00573869],\n",
       "        [ 0.00495787, -0.03389368,  0.02602977, ..., -0.01944344,\n",
       "         -0.01832708,  0.04218844],\n",
       "        [ 0.04517173, -0.0447663 , -0.03312756, ...,  0.01755409,\n",
       "          0.00278723, -0.00176303],\n",
       "        ...,\n",
       "        [ 0.01172156, -0.04474051, -0.04512117, ..., -0.01857225,\n",
       "          0.01873845,  0.03943801],\n",
       "        [ 0.01172156, -0.04474051, -0.04512117, ..., -0.01857225,\n",
       "          0.01873845,  0.03943801],\n",
       "        [ 0.01172156, -0.04474051, -0.04512117, ..., -0.01857225,\n",
       "          0.01873845,  0.03943801]]], dtype=float32)"
      ]
     },
     "execution_count": 100,
     "metadata": {},
     "output_type": "execute_result"
    }
   ],
   "source": [
    "vectorizer = Sequential([\n",
    "    tf.keras.Input(shape=(1,), dtype=tf.string), # Input\n",
    "    vectorize_layer, # Output\n",
    "    Embedding(input_dim = vocabs, output_dim = 100, input_length=max_length)\n",
    "])\n",
    "input_data = [[\"i scared and hearing creepy voices\"], [\"it more like world of tanks in space but with\"]]\n",
    "vectorizer.predict(input_data)"
   ]
  },
  {
   "cell_type": "code",
   "execution_count": null,
   "metadata": {},
   "outputs": [],
   "source": [
    "model = Sequential([\n",
    "    vectorize_layer,\n",
    "    Embedding(input_dim = vocabs, output_dim = 100, input_length=max_length),\n",
    "    # LSTM(128, recurrent_activation=\"sigmoid\"),\n",
    "    GlobalAveragePooling1D(),\n",
    "    Dense(128, activation=\"relu\"), # https://en.wikipedia.org/wiki/Rectifier_(neural_networks)\n",
    "    # Dropout(0.2), # Randomly set inputs to 0 with the probability in input, here 0.2 to prevent overfitting\n",
    "    Dense(1, activation = \"sigmoid\"), # Output function\n",
    "])"
   ]
  },
  {
   "cell_type": "code",
   "execution_count": null,
   "metadata": {},
   "outputs": [
    {
     "name": "stdout",
     "output_type": "stream",
     "text": [
      "Model: \"sequential_35\"\n",
      "_________________________________________________________________\n",
      " Layer (type)                Output Shape              Param #   \n",
      "=================================================================\n",
      " text_vectorization_2 (Text  (None, 100)               0         \n",
      " Vectorization)                                                  \n",
      "                                                                 \n",
      " embedding_33 (Embedding)    (None, 100, 100)          1000000   \n",
      "                                                                 \n",
      " global_average_pooling1d_8  (None, 100)               0         \n",
      "  (GlobalAveragePooling1D)                                       \n",
      "                                                                 \n",
      " dense_52 (Dense)            (None, 128)               12928     \n",
      "                                                                 \n",
      " dense_53 (Dense)            (None, 1)                 129       \n",
      "                                                                 \n",
      "=================================================================\n",
      "Total params: 1013057 (3.86 MB)\n",
      "Trainable params: 1013057 (3.86 MB)\n",
      "Non-trainable params: 0 (0.00 Byte)\n",
      "_________________________________________________________________\n"
     ]
    }
   ],
   "source": [
    "model.summary()"
   ]
  },
  {
   "cell_type": "code",
   "execution_count": null,
   "metadata": {},
   "outputs": [
    {
     "name": "stdout",
     "output_type": "stream",
     "text": [
      "Epoch 1/20\n",
      "25/25 [==============================] - 1s 11ms/step - loss: 0.6288 - accuracy: 0.7738 - val_loss: 0.5542 - val_accuracy: 0.7800\n",
      "Epoch 2/20\n",
      "25/25 [==============================] - 0s 7ms/step - loss: 0.5334 - accuracy: 0.7750 - val_loss: 0.5229 - val_accuracy: 0.7800\n",
      "Epoch 3/20\n",
      "25/25 [==============================] - 0s 7ms/step - loss: 0.5013 - accuracy: 0.7750 - val_loss: 0.5083 - val_accuracy: 0.7800\n",
      "Epoch 4/20\n",
      "25/25 [==============================] - 0s 6ms/step - loss: 0.4664 - accuracy: 0.7750 - val_loss: 0.4894 - val_accuracy: 0.7800\n",
      "Epoch 5/20\n",
      "25/25 [==============================] - 0s 6ms/step - loss: 0.4058 - accuracy: 0.7788 - val_loss: 0.4581 - val_accuracy: 0.7800\n",
      "Epoch 6/20\n",
      "25/25 [==============================] - 0s 6ms/step - loss: 0.3170 - accuracy: 0.8275 - val_loss: 0.4195 - val_accuracy: 0.8250\n",
      "Epoch 7/20\n",
      "25/25 [==============================] - 0s 7ms/step - loss: 0.2217 - accuracy: 0.9237 - val_loss: 0.3941 - val_accuracy: 0.8400\n",
      "Epoch 8/20\n",
      "25/25 [==============================] - 0s 6ms/step - loss: 0.1372 - accuracy: 0.9812 - val_loss: 0.3776 - val_accuracy: 0.8450\n",
      "Epoch 9/20\n",
      "25/25 [==============================] - 0s 6ms/step - loss: 0.0788 - accuracy: 0.9962 - val_loss: 0.3755 - val_accuracy: 0.8450\n",
      "Epoch 10/20\n",
      "25/25 [==============================] - 0s 6ms/step - loss: 0.0480 - accuracy: 0.9987 - val_loss: 0.3913 - val_accuracy: 0.8350\n",
      "Epoch 11/20\n",
      "25/25 [==============================] - 0s 7ms/step - loss: 0.0304 - accuracy: 0.9987 - val_loss: 0.4418 - val_accuracy: 0.8350\n"
     ]
    },
    {
     "data": {
      "text/plain": [
       "<keras.src.callbacks.History at 0x7ff49871b5b0>"
      ]
     },
     "execution_count": 144,
     "metadata": {},
     "output_type": "execute_result"
    }
   ],
   "source": [
    "callback = EarlyStopping(patience=2, monitor='val_loss') # patience = number of epochs without improvment of the val_loss\n",
    "# Create a callback that saves the model's weights\n",
    "#cp_callback = ModelCheckpoint(filepath='save_path.keras'),\n",
    "#                                                 save_weights_only=True,\n",
    "#                                                 verbose=1)\n",
    "\n",
    "model.compile(optimizer=Adam(learning_rate=0.001), # Optimizer modifies the weights with specified learning rate\n",
    "              loss=BinaryCrossentropy(),\n",
    "              metrics=[\"accuracy\"],\n",
    "              )\n",
    "\n",
    "model.fit(x_train, y_train,\n",
    "          epochs=20,\n",
    "          validation_data=(x_test, y_test),\n",
    "          batch_size=32,\n",
    "          callbacks = callback\n",
    "          )"
   ]
  },
  {
   "cell_type": "code",
   "execution_count": null,
   "metadata": {},
   "outputs": [
    {
     "name": "stdout",
     "output_type": "stream",
     "text": [
      "7/7 [==============================] - 0s 2ms/step - loss: 0.4418 - accuracy: 0.8350\n"
     ]
    },
    {
     "data": {
      "text/plain": [
       "[0.44183310866355896, 0.8349999785423279]"
      ]
     },
     "execution_count": 145,
     "metadata": {},
     "output_type": "execute_result"
    }
   ],
   "source": [
    "model.evaluate(x_test, y_test) # Returns loss and accuracy"
   ]
  },
  {
   "cell_type": "code",
   "execution_count": null,
   "metadata": {},
   "outputs": [
    {
     "name": "stdout",
     "output_type": "stream",
     "text": [
      "7/7 [==============================] - 0s 2ms/step\n"
     ]
    }
   ],
   "source": [
    "y_test_predict = model.predict(x_test.values)\n",
    "y_test_predict = np.round(y_test_predict)"
   ]
  },
  {
   "cell_type": "code",
   "execution_count": null,
   "metadata": {},
   "outputs": [
    {
     "data": {
      "text/plain": [
       "<tf.Tensor: shape=(2, 2), dtype=int32, numpy=\n",
       "array([[ 15,  29],\n",
       "       [  4, 152]], dtype=int32)>"
      ]
     },
     "execution_count": 147,
     "metadata": {},
     "output_type": "execute_result"
    }
   ],
   "source": [
    "tf.math.confusion_matrix(\n",
    "    y_test,\n",
    "    y_test_predict,\n",
    "    num_classes=None,\n",
    "    weights=None,\n",
    "    dtype=tf.dtypes.int32,\n",
    "    name=None\n",
    ")\n"
   ]
  },
  {
   "cell_type": "code",
   "execution_count": null,
   "metadata": {},
   "outputs": [
    {
     "data": {
      "image/png": "[encoded data removed]",
      "text/plain": [
       "<Figure size 640x480 with 2 Axes>"
      ]
     },
     "metadata": {},
     "output_type": "display_data"
    }
   ],
   "source": [
    "from sklearn.metrics import ConfusionMatrixDisplay\n",
    "import matplotlib.pyplot as plt\n",
    "ConfusionMatrixDisplay.from_predictions(y_test, y_test_predict, cmap=\"Oranges\")\n",
    "plt.show()"
   ]
  },
  {
   "cell_type": "code",
   "execution_count": null,
   "metadata": {},
   "outputs": [
    {
     "name": "stdout",
     "output_type": "stream",
     "text": [
      "1/1 [==============================] - 0s 23ms/step\n"
     ]
    },
    {
     "data": {
      "text/plain": [
       "array([[0.95997506]], dtype=float32)"
      ]
     },
     "execution_count": 149,
     "metadata": {},
     "output_type": "execute_result"
    }
   ],
   "source": [
    "model.predict([ 'i scared and hearing creepy voices ' ])"
   ]
  },
  {
   "cell_type": "code",
   "execution_count": null,
   "metadata": {},
   "outputs": [
    {
     "name": "stdout",
     "output_type": "stream",
     "text": [
      "1/1 [==============================] - 0s 20ms/step\n"
     ]
    },
    {
     "data": {
      "text/plain": [
       "array([[0.9232207 ],\n",
       "       [0.89154506]], dtype=float32)"
      ]
     },
     "execution_count": 150,
     "metadata": {},
     "output_type": "execute_result"
    }
   ],
   "source": [
    "model.save('my_model.keras')\n",
    "from tensorflow.keras.models import load_model\n",
    "new_model = load_model('my_model.keras')\n",
    "model.predict(['this game is really good, I like it', 'game is not good' ])"
   ]
  },
  {
   "cell_type": "markdown",
   "metadata": {},
   "source": [
    "### d"
   ]
  },
  {
   "cell_type": "code",
   "execution_count": null,
   "metadata": {},
   "outputs": [
    {
     "name": "stdout",
     "output_type": "stream",
     "text": [
      "Epoch 1/25\n",
      "25/25 [==============================] - 2s 34ms/step - loss: 0.6038 - accuracy: 0.7725 - val_loss: 0.5417 - val_accuracy: 0.7800\n",
      "Epoch 2/25\n",
      "25/25 [==============================] - 1s 27ms/step - loss: 0.5451 - accuracy: 0.7750 - val_loss: 0.5290 - val_accuracy: 0.7800\n",
      "Epoch 3/25\n",
      "25/25 [==============================] - 1s 26ms/step - loss: 0.5240 - accuracy: 0.7750 - val_loss: 0.5294 - val_accuracy: 0.7800\n",
      "Epoch 4/25\n",
      "25/25 [==============================] - 1s 26ms/step - loss: 0.4985 - accuracy: 0.7750 - val_loss: 0.5330 - val_accuracy: 0.7800\n",
      "Epoch 5/25\n",
      "25/25 [==============================] - 1s 26ms/step - loss: 0.4454 - accuracy: 0.8000 - val_loss: 0.5902 - val_accuracy: 0.7600\n",
      "Epoch 6/25\n",
      "25/25 [==============================] - 1s 26ms/step - loss: 0.4050 - accuracy: 0.8450 - val_loss: 0.5882 - val_accuracy: 0.7500\n",
      "Epoch 7/25\n",
      "25/25 [==============================] - 1s 26ms/step - loss: 0.3878 - accuracy: 0.8487 - val_loss: 0.6278 - val_accuracy: 0.7650\n",
      "Epoch 8/25\n",
      "25/25 [==============================] - 1s 26ms/step - loss: 0.3723 - accuracy: 0.8462 - val_loss: 0.6313 - val_accuracy: 0.7700\n",
      "Epoch 9/25\n",
      "25/25 [==============================] - 1s 26ms/step - loss: 0.3637 - accuracy: 0.8487 - val_loss: 0.6344 - val_accuracy: 0.7600\n",
      "Epoch 10/25\n",
      "25/25 [==============================] - 1s 30ms/step - loss: 0.3565 - accuracy: 0.8525 - val_loss: 0.6624 - val_accuracy: 0.7650\n",
      "Epoch 11/25\n",
      "25/25 [==============================] - 1s 26ms/step - loss: 0.3892 - accuracy: 0.8575 - val_loss: 0.5782 - val_accuracy: 0.7800\n",
      "Epoch 12/25\n",
      "25/25 [==============================] - 1s 26ms/step - loss: 0.3787 - accuracy: 0.8450 - val_loss: 0.5694 - val_accuracy: 0.7750\n",
      "Epoch 13/25\n",
      "25/25 [==============================] - 1s 26ms/step - loss: 0.3615 - accuracy: 0.8500 - val_loss: 0.6111 - val_accuracy: 0.7800\n",
      "Epoch 14/25\n",
      "25/25 [==============================] - 1s 26ms/step - loss: 0.3460 - accuracy: 0.8512 - val_loss: 0.6352 - val_accuracy: 0.7800\n",
      "Epoch 15/25\n",
      "25/25 [==============================] - 1s 26ms/step - loss: 0.3295 - accuracy: 0.8550 - val_loss: 0.8048 - val_accuracy: 0.7800\n",
      "Epoch 16/25\n",
      "25/25 [==============================] - 1s 27ms/step - loss: 0.3000 - accuracy: 0.8612 - val_loss: 0.7595 - val_accuracy: 0.7850\n",
      "Epoch 17/25\n",
      "25/25 [==============================] - 1s 26ms/step - loss: 0.1974 - accuracy: 0.8838 - val_loss: 1.0596 - val_accuracy: 0.7450\n",
      "Epoch 18/25\n",
      "25/25 [==============================] - 1s 27ms/step - loss: 0.1282 - accuracy: 0.9362 - val_loss: 1.0797 - val_accuracy: 0.6550\n",
      "Epoch 19/25\n",
      "25/25 [==============================] - 1s 26ms/step - loss: 0.1135 - accuracy: 0.9550 - val_loss: 1.1429 - val_accuracy: 0.7500\n",
      "Epoch 20/25\n",
      "25/25 [==============================] - 1s 27ms/step - loss: 0.0458 - accuracy: 0.9837 - val_loss: 1.3902 - val_accuracy: 0.7500\n",
      "Epoch 21/25\n",
      "25/25 [==============================] - 1s 27ms/step - loss: 0.0306 - accuracy: 0.9925 - val_loss: 1.3130 - val_accuracy: 0.7400\n",
      "Epoch 22/25\n",
      "25/25 [==============================] - 1s 26ms/step - loss: 0.0132 - accuracy: 0.9962 - val_loss: 1.6251 - val_accuracy: 0.7350\n",
      "Epoch 23/25\n",
      "25/25 [==============================] - 1s 28ms/step - loss: 0.0065 - accuracy: 0.9987 - val_loss: 1.7537 - val_accuracy: 0.7300\n",
      "Epoch 24/25\n",
      "25/25 [==============================] - 1s 26ms/step - loss: 0.0069 - accuracy: 0.9987 - val_loss: 1.7686 - val_accuracy: 0.7250\n",
      "Epoch 25/25\n",
      "25/25 [==============================] - 1s 28ms/step - loss: 0.0070 - accuracy: 0.9987 - val_loss: 1.8210 - val_accuracy: 0.7300\n"
     ]
    },
    {
     "data": {
      "text/plain": [
       "<keras.src.callbacks.History at 0x7ff59b940ee0>"
      ]
     },
     "execution_count": 165,
     "metadata": {},
     "output_type": "execute_result"
    }
   ],
   "source": [
    "\n",
    "gru_model = Sequential([\n",
    "    vectorize_layer,\n",
    "    Embedding(input_dim = vocabs, output_dim = 100, input_length=max_length),\n",
    "    GRU(64),\n",
    "    Dense(64, activation=\"relu\"), # https://en.wikipedia.org/wiki/Rectifier_(neural_networks)\n",
    "    Dropout(0.2),\n",
    "    Dense(1, activation = \"sigmoid\"), # Output function\n",
    "])\n",
    "\n",
    "gru_model.compile(optimizer=Adam(learning_rate=0.001), # Optimizer modifies the weights with specified learning rate\n",
    "              loss=BinaryCrossentropy(),\n",
    "              metrics=[\"accuracy\"],\n",
    "              )\n",
    "\n",
    "gru_model.fit(x_train, y_train,\n",
    "          epochs=25,\n",
    "          validation_data=(x_test, y_test),\n",
    "          batch_size=32,\n",
    "          )"
   ]
  },
  {
   "cell_type": "code",
   "execution_count": null,
   "metadata": {},
   "outputs": [
    {
     "name": "stdout",
     "output_type": "stream",
     "text": [
      "7/7 [==============================] - 0s 8ms/step - loss: 1.8210 - accuracy: 0.7300\n"
     ]
    },
    {
     "data": {
      "text/plain": [
       "[1.8209675550460815, 0.7300000190734863]"
      ]
     },
     "execution_count": 166,
     "metadata": {},
     "output_type": "execute_result"
    }
   ],
   "source": [
    "gru_model.evaluate(x_test, y_test) # Returns loss and accuracy"
   ]
  },
  {
   "cell_type": "code",
   "execution_count": null,
   "metadata": {},
   "outputs": [
    {
     "name": "stdout",
     "output_type": "stream",
     "text": [
      "7/7 [==============================] - 0s 8ms/step\n"
     ]
    }
   ],
   "source": [
    "y_test_predict = gru_model.predict(x_test.values)\n",
    "y_test_predict = np.round(y_test_predict)"
   ]
  },
  {
   "cell_type": "code",
   "execution_count": null,
   "metadata": {},
   "outputs": [
    {
     "data": {
      "image/png": "[encoded data removed]",
      "text/plain": [
       "<Figure size 640x480 with 2 Axes>"
      ]
     },
     "metadata": {},
     "output_type": "display_data"
    }
   ],
   "source": [
    "from sklearn.metrics import ConfusionMatrixDisplay\n",
    "import matplotlib.pyplot as plt\n",
    "ConfusionMatrixDisplay.from_predictions(y_test, y_test_predict, cmap=\"Greens\")\n",
    "plt.show()"
   ]
  },
  {
   "cell_type": "code",
   "execution_count": null,
   "metadata": {},
   "outputs": [
    {
     "name": "stdout",
     "output_type": "stream",
     "text": [
      "Epoch 1/25\n",
      "25/25 [==============================] - 2s 37ms/step - loss: 0.5990 - accuracy: 0.7613 - val_loss: 0.5352 - val_accuracy: 0.7800\n",
      "Epoch 2/25\n",
      "25/25 [==============================] - 1s 32ms/step - loss: 0.5353 - accuracy: 0.7750 - val_loss: 0.5279 - val_accuracy: 0.7800\n",
      "Epoch 3/25\n",
      "25/25 [==============================] - 1s 27ms/step - loss: 0.5177 - accuracy: 0.7750 - val_loss: 0.5273 - val_accuracy: 0.7800\n",
      "Epoch 4/25\n",
      "25/25 [==============================] - 1s 28ms/step - loss: 0.4916 - accuracy: 0.7750 - val_loss: 0.5481 - val_accuracy: 0.7800\n",
      "Epoch 5/25\n",
      "25/25 [==============================] - 1s 27ms/step - loss: 0.4511 - accuracy: 0.8112 - val_loss: 0.5761 - val_accuracy: 0.7750\n",
      "Epoch 6/25\n",
      "25/25 [==============================] - 1s 27ms/step - loss: 0.3960 - accuracy: 0.8438 - val_loss: 0.6054 - val_accuracy: 0.7550\n",
      "Epoch 7/25\n",
      "25/25 [==============================] - 1s 31ms/step - loss: 0.3771 - accuracy: 0.8475 - val_loss: 0.6020 - val_accuracy: 0.7600\n",
      "Epoch 8/25\n",
      "25/25 [==============================] - 1s 27ms/step - loss: 0.3578 - accuracy: 0.8500 - val_loss: 0.9348 - val_accuracy: 0.7800\n",
      "Epoch 9/25\n",
      "25/25 [==============================] - 1s 28ms/step - loss: 0.3584 - accuracy: 0.8512 - val_loss: 0.6165 - val_accuracy: 0.7800\n",
      "Epoch 10/25\n",
      "25/25 [==============================] - 1s 28ms/step - loss: 0.3470 - accuracy: 0.8550 - val_loss: 0.6592 - val_accuracy: 0.7700\n",
      "Epoch 11/25\n",
      "25/25 [==============================] - 1s 28ms/step - loss: 0.3437 - accuracy: 0.8612 - val_loss: 0.6713 - val_accuracy: 0.7350\n",
      "Epoch 12/25\n",
      "25/25 [==============================] - 1s 27ms/step - loss: 0.3088 - accuracy: 0.8875 - val_loss: 1.0467 - val_accuracy: 0.7550\n",
      "Epoch 13/25\n",
      "25/25 [==============================] - 1s 27ms/step - loss: 0.2851 - accuracy: 0.8925 - val_loss: 0.7579 - val_accuracy: 0.7700\n",
      "Epoch 14/25\n",
      "25/25 [==============================] - 1s 27ms/step - loss: 0.1882 - accuracy: 0.9287 - val_loss: 0.6992 - val_accuracy: 0.7600\n",
      "Epoch 15/25\n",
      "25/25 [==============================] - 1s 27ms/step - loss: 0.0915 - accuracy: 0.9650 - val_loss: 1.0434 - val_accuracy: 0.7600\n",
      "Epoch 16/25\n",
      "25/25 [==============================] - 1s 27ms/step - loss: 0.0258 - accuracy: 0.9887 - val_loss: 1.0637 - val_accuracy: 0.7600\n",
      "Epoch 17/25\n",
      "25/25 [==============================] - 1s 27ms/step - loss: 0.0018 - accuracy: 1.0000 - val_loss: 1.3348 - val_accuracy: 0.7600\n",
      "Epoch 18/25\n",
      "25/25 [==============================] - 1s 27ms/step - loss: 6.4326e-04 - accuracy: 1.0000 - val_loss: 1.4163 - val_accuracy: 0.7500\n",
      "Epoch 19/25\n",
      "25/25 [==============================] - 1s 32ms/step - loss: 3.1875e-04 - accuracy: 1.0000 - val_loss: 1.4654 - val_accuracy: 0.7550\n",
      "Epoch 20/25\n",
      "25/25 [==============================] - 1s 27ms/step - loss: 2.3604e-04 - accuracy: 1.0000 - val_loss: 1.5036 - val_accuracy: 0.7550\n",
      "Epoch 21/25\n",
      "25/25 [==============================] - 1s 28ms/step - loss: 1.9367e-04 - accuracy: 1.0000 - val_loss: 1.5419 - val_accuracy: 0.7550\n",
      "Epoch 22/25\n",
      "25/25 [==============================] - 1s 29ms/step - loss: 1.6658e-04 - accuracy: 1.0000 - val_loss: 1.5758 - val_accuracy: 0.7550\n",
      "Epoch 23/25\n",
      "25/25 [==============================] - 1s 28ms/step - loss: 1.4520e-04 - accuracy: 1.0000 - val_loss: 1.6034 - val_accuracy: 0.7600\n",
      "Epoch 24/25\n",
      "25/25 [==============================] - 1s 28ms/step - loss: 1.2853e-04 - accuracy: 1.0000 - val_loss: 1.6291 - val_accuracy: 0.7600\n",
      "Epoch 25/25\n",
      "25/25 [==============================] - 1s 28ms/step - loss: 1.1521e-04 - accuracy: 1.0000 - val_loss: 1.6553 - val_accuracy: 0.7550\n"
     ]
    },
    {
     "data": {
      "text/plain": [
       "<keras.src.callbacks.History at 0x7ff59abe6080>"
      ]
     },
     "execution_count": 169,
     "metadata": {},
     "output_type": "execute_result"
    }
   ],
   "source": [
    "gru_nodropout_model = Sequential([\n",
    "    vectorize_layer,\n",
    "    Embedding(input_dim = vocabs, output_dim = 100, input_length=max_length),\n",
    "    GRU(64),\n",
    "    Dense(64, activation=\"relu\"), # https://en.wikipedia.org/wiki/Rectifier_(neural_networks)\n",
    "    Dense(1, activation = \"sigmoid\"), # Output function\n",
    "])\n",
    "\n",
    "gru_nodropout_model.compile(optimizer=Adam(learning_rate=0.001), # Optimizer modifies the weights with specified learning rate\n",
    "              loss=BinaryCrossentropy(),\n",
    "              metrics=[\"accuracy\"],\n",
    "              )\n",
    "\n",
    "gru_nodropout_model.fit(x_train, y_train,\n",
    "          epochs=25,\n",
    "          validation_data=(x_test, y_test),\n",
    "          batch_size=32,\n",
    "          )"
   ]
  },
  {
   "cell_type": "code",
   "execution_count": null,
   "metadata": {},
   "outputs": [
    {
     "name": "stdout",
     "output_type": "stream",
     "text": [
      "7/7 [==============================] - 0s 9ms/step - loss: 1.6553 - accuracy: 0.7550\n"
     ]
    },
    {
     "data": {
      "text/plain": [
       "[1.6552625894546509, 0.7549999952316284]"
      ]
     },
     "execution_count": 171,
     "metadata": {},
     "output_type": "execute_result"
    }
   ],
   "source": [
    "gru_nodropout_model.evaluate(x_test, y_test) # Returns loss and accuracy"
   ]
  },
  {
   "cell_type": "code",
   "execution_count": null,
   "metadata": {},
   "outputs": [
    {
     "name": "stdout",
     "output_type": "stream",
     "text": [
      "7/7 [==============================] - 0s 9ms/step\n"
     ]
    }
   ],
   "source": [
    "y_test_predict = gru_model.predict(x_test.values)\n",
    "y_test_predict = np.round(y_test_predict)"
   ]
  },
  {
   "cell_type": "code",
   "execution_count": null,
   "metadata": {},
   "outputs": [
    {
     "data": {
      "image/png": "[encoded data removed]",
      "text/plain": [
       "<Figure size 640x480 with 2 Axes>"
      ]
     },
     "metadata": {},
     "output_type": "display_data"
    }
   ],
   "source": [
    "from sklearn.metrics import ConfusionMatrixDisplay\n",
    "import matplotlib.pyplot as plt\n",
    "ConfusionMatrixDisplay.from_predictions(y_test, y_test_predict, cmap=\"Greens\")\n",
    "plt.show()"
   ]
  }
 ],
 "metadata": {
  "kernelspec": {
   "display_name": "Python 3",
   "language": "python",
   "name": "python3"
  },
  "language_info": {
   "codemirror_mode": {
    "name": "ipython",
    "version": 3
   },
   "file_extension": ".py",
   "mimetype": "text/x-python",
   "name": "python",
   "nbconvert_exporter": "python",
   "pygments_lexer": "ipython3",
   "version": "3.11.8"
  }
 },
 "nbformat": 4,
 "nbformat_minor": 2
}
